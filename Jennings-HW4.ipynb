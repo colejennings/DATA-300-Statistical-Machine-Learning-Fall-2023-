{
 "cells": [
  {
   "cell_type": "code",
   "execution_count": 1,
   "id": "a63ab0c0",
   "metadata": {},
   "outputs": [],
   "source": [
    "#conda v 22.9.0\n",
    "#Python v 3.9.12\n",
    "import numpy as np # v. 1.21.5\n",
    "import sklearn # v. 0.0\n",
    "import pandas as pd # v. 1.4.2\n",
    "\n",
    "import matplotlib.pyplot as plt # v. 3.5.1\n",
    "import statsmodels.api as sm # v. 0.13.2\n",
    "import pandas as pd #v. 1.4.2\n",
    "import pmdarima as pm #v. 2.0.3\n",
    "import sweetviz as sv #v. 2.2.1\n",
    "import warnings as ww \n",
    "import statsmodels.tsa.stattools as stattools # v. 0.13.2\n",
    "import seaborn as sns\n",
    "\n",
    "from statsmodels.tsa.stattools import adfuller # v. 0.13.2\n",
    "from statsmodels.graphics.tsaplots import plot_acf, plot_pacf # v. 0.13.2\n",
    "from statsmodels.tsa.arima_model import ARIMA # v. 0.13.2\n",
    "\n",
    "from sklearn.model_selection import train_test_split # v. 0.0\n",
    "from sklearn.metrics import mean_absolute_error # v. 0.0\n",
    "from sklearn.metrics import mean_squared_error # v. 0.0\n",
    "from sklearn.metrics import mean_absolute_percentage_error # v. 0.0\n",
    "from sklearn.linear_model import LogisticRegression # v. 0.0\n",
    "from sklearn.metrics import accuracy_score, precision_score, recall_score # v. 0.0\n",
    "from sklearn.metrics import confusion_matrix # v. 0.0\n",
    "from sklearn.discriminant_analysis import LinearDiscriminantAnalysis # v. 0.0\n",
    "from sklearn.metrics import roc_auc_score, roc_curve # v. 0.0\n",
    "from sklearn.preprocessing import LabelBinarizer # v. 0.0\n",
    "from sklearn.utils import resample, shuffle # v. 0.0\n",
    "from imblearn.over_sampling import SMOTE # v. 0.11.0\n",
    "\n",
    "\n",
    "ww.filterwarnings(\"ignore\")\n",
    "%matplotlib inline"
   ]
  },
  {
   "cell_type": "code",
   "execution_count": 2,
   "id": "9661adb6",
   "metadata": {},
   "outputs": [],
   "source": [
    "df = pd.read_csv('/Users/colejennings/Downloads/loan_default_data_set.csv') #read in the data"
   ]
  },
  {
   "cell_type": "code",
   "execution_count": 3,
   "id": "79d2444c",
   "metadata": {},
   "outputs": [
    {
     "data": {
      "text/html": [
       "<div>\n",
       "<style scoped>\n",
       "    .dataframe tbody tr th:only-of-type {\n",
       "        vertical-align: middle;\n",
       "    }\n",
       "\n",
       "    .dataframe tbody tr th {\n",
       "        vertical-align: top;\n",
       "    }\n",
       "\n",
       "    .dataframe thead th {\n",
       "        text-align: right;\n",
       "    }\n",
       "</style>\n",
       "<table border=\"1\" class=\"dataframe\">\n",
       "  <thead>\n",
       "    <tr style=\"text-align: right;\">\n",
       "      <th></th>\n",
       "      <th>tot_balance</th>\n",
       "      <th>avg_bal_cards</th>\n",
       "      <th>credit_age</th>\n",
       "      <th>credit_age_good_account</th>\n",
       "      <th>credit_card_age</th>\n",
       "      <th>num_acc_30d_past_due_12_months</th>\n",
       "      <th>num_acc_30d_past_due_6_months</th>\n",
       "      <th>num_mortgage_currently_past_due</th>\n",
       "      <th>tot_amount_currently_past_due</th>\n",
       "      <th>num_inq_12_month</th>\n",
       "      <th>...</th>\n",
       "      <th>num_card_12_month</th>\n",
       "      <th>num_auto_ 36_month</th>\n",
       "      <th>uti_open_card</th>\n",
       "      <th>pct_over_50_uti</th>\n",
       "      <th>uti_max_credit_line</th>\n",
       "      <th>pct_card_over_50_uti</th>\n",
       "      <th>ind_XYZ</th>\n",
       "      <th>rep_income</th>\n",
       "      <th>rep_education</th>\n",
       "      <th>Def_ind</th>\n",
       "    </tr>\n",
       "  </thead>\n",
       "  <tbody>\n",
       "    <tr>\n",
       "      <th>0</th>\n",
       "      <td>102956.1101</td>\n",
       "      <td>14819.05740</td>\n",
       "      <td>238</td>\n",
       "      <td>104</td>\n",
       "      <td>264</td>\n",
       "      <td>0</td>\n",
       "      <td>0</td>\n",
       "      <td>0</td>\n",
       "      <td>0.0</td>\n",
       "      <td>0</td>\n",
       "      <td>...</td>\n",
       "      <td>1</td>\n",
       "      <td>0</td>\n",
       "      <td>0.366737</td>\n",
       "      <td>0.342183</td>\n",
       "      <td>0.513934</td>\n",
       "      <td>0.550866</td>\n",
       "      <td>0</td>\n",
       "      <td>118266.32130</td>\n",
       "      <td>college</td>\n",
       "      <td>0</td>\n",
       "    </tr>\n",
       "    <tr>\n",
       "      <th>1</th>\n",
       "      <td>132758.7258</td>\n",
       "      <td>18951.93455</td>\n",
       "      <td>384</td>\n",
       "      <td>197</td>\n",
       "      <td>371</td>\n",
       "      <td>0</td>\n",
       "      <td>0</td>\n",
       "      <td>0</td>\n",
       "      <td>0.0</td>\n",
       "      <td>0</td>\n",
       "      <td>...</td>\n",
       "      <td>0</td>\n",
       "      <td>0</td>\n",
       "      <td>0.490809</td>\n",
       "      <td>0.540671</td>\n",
       "      <td>0.418016</td>\n",
       "      <td>NaN</td>\n",
       "      <td>0</td>\n",
       "      <td>89365.05765</td>\n",
       "      <td>college</td>\n",
       "      <td>0</td>\n",
       "    </tr>\n",
       "    <tr>\n",
       "      <th>2</th>\n",
       "      <td>124658.9174</td>\n",
       "      <td>15347.92969</td>\n",
       "      <td>277</td>\n",
       "      <td>110</td>\n",
       "      <td>288</td>\n",
       "      <td>0</td>\n",
       "      <td>0</td>\n",
       "      <td>0</td>\n",
       "      <td>0.0</td>\n",
       "      <td>0</td>\n",
       "      <td>...</td>\n",
       "      <td>0</td>\n",
       "      <td>0</td>\n",
       "      <td>0.359074</td>\n",
       "      <td>0.338560</td>\n",
       "      <td>0.341627</td>\n",
       "      <td>0.451417</td>\n",
       "      <td>0</td>\n",
       "      <td>201365.12130</td>\n",
       "      <td>college</td>\n",
       "      <td>0</td>\n",
       "    </tr>\n",
       "    <tr>\n",
       "      <th>3</th>\n",
       "      <td>133968.5369</td>\n",
       "      <td>14050.71334</td>\n",
       "      <td>375</td>\n",
       "      <td>224</td>\n",
       "      <td>343</td>\n",
       "      <td>0</td>\n",
       "      <td>0</td>\n",
       "      <td>0</td>\n",
       "      <td>0.0</td>\n",
       "      <td>2</td>\n",
       "      <td>...</td>\n",
       "      <td>1</td>\n",
       "      <td>0</td>\n",
       "      <td>0.700379</td>\n",
       "      <td>0.683589</td>\n",
       "      <td>0.542940</td>\n",
       "      <td>0.607843</td>\n",
       "      <td>0</td>\n",
       "      <td>191794.48550</td>\n",
       "      <td>college</td>\n",
       "      <td>0</td>\n",
       "    </tr>\n",
       "    <tr>\n",
       "      <th>4</th>\n",
       "      <td>143601.8017</td>\n",
       "      <td>14858.51527</td>\n",
       "      <td>374</td>\n",
       "      <td>155</td>\n",
       "      <td>278</td>\n",
       "      <td>0</td>\n",
       "      <td>0</td>\n",
       "      <td>0</td>\n",
       "      <td>0.0</td>\n",
       "      <td>0</td>\n",
       "      <td>...</td>\n",
       "      <td>0</td>\n",
       "      <td>0</td>\n",
       "      <td>0.647351</td>\n",
       "      <td>0.510812</td>\n",
       "      <td>0.632934</td>\n",
       "      <td>0.573680</td>\n",
       "      <td>0</td>\n",
       "      <td>161465.36790</td>\n",
       "      <td>graduate</td>\n",
       "      <td>0</td>\n",
       "    </tr>\n",
       "  </tbody>\n",
       "</table>\n",
       "<p>5 rows × 21 columns</p>\n",
       "</div>"
      ],
      "text/plain": [
       "   tot_balance  avg_bal_cards  credit_age  credit_age_good_account  \\\n",
       "0  102956.1101    14819.05740         238                      104   \n",
       "1  132758.7258    18951.93455         384                      197   \n",
       "2  124658.9174    15347.92969         277                      110   \n",
       "3  133968.5369    14050.71334         375                      224   \n",
       "4  143601.8017    14858.51527         374                      155   \n",
       "\n",
       "   credit_card_age  num_acc_30d_past_due_12_months  \\\n",
       "0              264                               0   \n",
       "1              371                               0   \n",
       "2              288                               0   \n",
       "3              343                               0   \n",
       "4              278                               0   \n",
       "\n",
       "   num_acc_30d_past_due_6_months  num_mortgage_currently_past_due  \\\n",
       "0                              0                                0   \n",
       "1                              0                                0   \n",
       "2                              0                                0   \n",
       "3                              0                                0   \n",
       "4                              0                                0   \n",
       "\n",
       "   tot_amount_currently_past_due  num_inq_12_month  ...  num_card_12_month  \\\n",
       "0                            0.0                 0  ...                  1   \n",
       "1                            0.0                 0  ...                  0   \n",
       "2                            0.0                 0  ...                  0   \n",
       "3                            0.0                 2  ...                  1   \n",
       "4                            0.0                 0  ...                  0   \n",
       "\n",
       "   num_auto_ 36_month  uti_open_card  pct_over_50_uti  uti_max_credit_line  \\\n",
       "0                   0       0.366737         0.342183             0.513934   \n",
       "1                   0       0.490809         0.540671             0.418016   \n",
       "2                   0       0.359074         0.338560             0.341627   \n",
       "3                   0       0.700379         0.683589             0.542940   \n",
       "4                   0       0.647351         0.510812             0.632934   \n",
       "\n",
       "   pct_card_over_50_uti  ind_XYZ    rep_income  rep_education Def_ind  \n",
       "0              0.550866        0  118266.32130        college       0  \n",
       "1                   NaN        0   89365.05765        college       0  \n",
       "2              0.451417        0  201365.12130        college       0  \n",
       "3              0.607843        0  191794.48550        college       0  \n",
       "4              0.573680        0  161465.36790       graduate       0  \n",
       "\n",
       "[5 rows x 21 columns]"
      ]
     },
     "execution_count": 3,
     "metadata": {},
     "output_type": "execute_result"
    }
   ],
   "source": [
    "df.head()"
   ]
  },
  {
   "cell_type": "code",
   "execution_count": 4,
   "id": "ef006599",
   "metadata": {},
   "outputs": [
    {
     "data": {
      "text/plain": [
       "(Index(['tot_balance', 'avg_bal_cards', 'credit_age', 'credit_age_good_account',\n",
       "        'credit_card_age', 'num_acc_30d_past_due_12_months',\n",
       "        'num_acc_30d_past_due_6_months', 'num_mortgage_currently_past_due',\n",
       "        'tot_amount_currently_past_due', 'num_inq_12_month',\n",
       "        'num_card_inq_24_month', 'num_card_12_month', 'num_auto_ 36_month',\n",
       "        'uti_open_card', 'pct_over_50_uti', 'uti_max_credit_line',\n",
       "        'pct_card_over_50_uti', 'ind_XYZ', 'rep_income', 'rep_education',\n",
       "        'Def_ind'],\n",
       "       dtype='object'),\n",
       " (20000, 21),\n",
       " tot_balance                        float64\n",
       " avg_bal_cards                      float64\n",
       " credit_age                           int64\n",
       " credit_age_good_account              int64\n",
       " credit_card_age                      int64\n",
       " num_acc_30d_past_due_12_months       int64\n",
       " num_acc_30d_past_due_6_months        int64\n",
       " num_mortgage_currently_past_due      int64\n",
       " tot_amount_currently_past_due      float64\n",
       " num_inq_12_month                     int64\n",
       " num_card_inq_24_month                int64\n",
       " num_card_12_month                    int64\n",
       " num_auto_ 36_month                   int64\n",
       " uti_open_card                      float64\n",
       " pct_over_50_uti                    float64\n",
       " uti_max_credit_line                float64\n",
       " pct_card_over_50_uti               float64\n",
       " ind_XYZ                              int64\n",
       " rep_income                         float64\n",
       " rep_education                       object\n",
       " Def_ind                              int64\n",
       " dtype: object)"
      ]
     },
     "execution_count": 4,
     "metadata": {},
     "output_type": "execute_result"
    }
   ],
   "source": [
    "df.columns, df.shape, df.dtypes #20,000 rows, 21 columns"
   ]
  },
  {
   "cell_type": "code",
   "execution_count": 5,
   "id": "13a6c935",
   "metadata": {},
   "outputs": [
    {
     "data": {
      "text/plain": [
       "tot_balance                           0\n",
       "avg_bal_cards                         0\n",
       "credit_age                            0\n",
       "credit_age_good_account               0\n",
       "credit_card_age                       0\n",
       "num_acc_30d_past_due_12_months        0\n",
       "num_acc_30d_past_due_6_months         0\n",
       "num_mortgage_currently_past_due       0\n",
       "tot_amount_currently_past_due         0\n",
       "num_inq_12_month                      0\n",
       "num_card_inq_24_month                 0\n",
       "num_card_12_month                     0\n",
       "num_auto_ 36_month                    0\n",
       "uti_open_card                         0\n",
       "pct_over_50_uti                       0\n",
       "uti_max_credit_line                   0\n",
       "pct_card_over_50_uti               1958\n",
       "ind_XYZ                               0\n",
       "rep_income                         1559\n",
       "rep_education                         1\n",
       "Def_ind                               0\n",
       "dtype: int64"
      ]
     },
     "execution_count": 5,
     "metadata": {},
     "output_type": "execute_result"
    }
   ],
   "source": [
    "df.isna().sum() #pct_card_over_50_uti = 1958 missing values, rep_income = 1559 missing values, rep_education = 1 mis"
   ]
  },
  {
   "cell_type": "code",
   "execution_count": 6,
   "id": "dd454628",
   "metadata": {},
   "outputs": [],
   "source": [
    "df['rep_education'].value_counts()\n",
    "#replace nulls with \"college\" since it is the mode of rep_education\n",
    "df['rep_education'].fillna('college', inplace=True)"
   ]
  },
  {
   "cell_type": "code",
   "execution_count": 7,
   "id": "d15dc269",
   "metadata": {},
   "outputs": [],
   "source": [
    "# Calculate the median \n",
    "median_pct_card_over_50_uti = df['pct_card_over_50_uti'].median()\n",
    "median_rep_income = df['rep_income'].median()\n",
    "\n",
    "\n",
    "# Replace null values with the respective medians\n",
    "df['pct_card_over_50_uti'].fillna(median_pct_card_over_50_uti, inplace=True)\n",
    "df['rep_income'].fillna(median_rep_income, inplace=True)"
   ]
  },
  {
   "cell_type": "code",
   "execution_count": 8,
   "id": "172a415b",
   "metadata": {},
   "outputs": [
    {
     "data": {
      "text/plain": [
       "tot_balance                        0\n",
       "avg_bal_cards                      0\n",
       "credit_age                         0\n",
       "credit_age_good_account            0\n",
       "credit_card_age                    0\n",
       "num_acc_30d_past_due_12_months     0\n",
       "num_acc_30d_past_due_6_months      0\n",
       "num_mortgage_currently_past_due    0\n",
       "tot_amount_currently_past_due      0\n",
       "num_inq_12_month                   0\n",
       "num_card_inq_24_month              0\n",
       "num_card_12_month                  0\n",
       "num_auto_ 36_month                 0\n",
       "uti_open_card                      0\n",
       "pct_over_50_uti                    0\n",
       "uti_max_credit_line                0\n",
       "pct_card_over_50_uti               0\n",
       "ind_XYZ                            0\n",
       "rep_income                         0\n",
       "rep_education                      0\n",
       "Def_ind                            0\n",
       "dtype: int64"
      ]
     },
     "execution_count": 8,
     "metadata": {},
     "output_type": "execute_result"
    }
   ],
   "source": [
    "df.isna().sum() #replaced all null values successfully"
   ]
  },
  {
   "cell_type": "code",
   "execution_count": 9,
   "id": "c9fd5327",
   "metadata": {},
   "outputs": [
    {
     "data": {
      "text/plain": [
       "0    0.9\n",
       "1    0.1\n",
       "Name: Def_ind, dtype: float64"
      ]
     },
     "execution_count": 9,
     "metadata": {},
     "output_type": "execute_result"
    }
   ],
   "source": [
    "df['Def_ind'].value_counts(normalize = True) #check class distribution"
   ]
  },
  {
   "cell_type": "code",
   "execution_count": 10,
   "id": "f4e80047",
   "metadata": {},
   "outputs": [],
   "source": [
    "df = pd.get_dummies(df, columns=['rep_education'], prefix=['education']) #create dummy variables for all education levels"
   ]
  },
  {
   "cell_type": "code",
   "execution_count": 11,
   "id": "c9c454ff",
   "metadata": {},
   "outputs": [],
   "source": [
    "# Step 1: Split your data into two separate datasets for minority and majority class\n",
    "X_minority = df[df['Def_ind'] == 1]  # Your minority class data\n",
    "X_majority = df[df['Def_ind'] == 0]  # Your majority class data\n",
    "\n",
    "# Step 2: Determine the desired number of observations for each class\n",
    "length_minority = len(X_minority)\n",
    "length_majority = len(X_majority)\n",
    "\n",
    "\n",
    "oversampled_minority = resample(X_minority, random_state=5, n_samples = length_majority, replace = True)\n",
    "#concatenate this with X_majority\n",
    "\n",
    "undersampled_majority = resample(X_majority, random_state=5, n_samples = length_minority, replace = True)\n",
    "#concatenate this with X_minority\n",
    "\n"
   ]
  },
  {
   "cell_type": "code",
   "execution_count": 12,
   "id": "75f7f813",
   "metadata": {},
   "outputs": [],
   "source": [
    "OVS = pd.concat([oversampled_minority, X_majority], ignore_index=True) #creat oversampled dataset"
   ]
  },
  {
   "cell_type": "code",
   "execution_count": 13,
   "id": "08868571",
   "metadata": {},
   "outputs": [
    {
     "data": {
      "text/plain": [
       "((36000, 24),\n",
       " Index(['tot_balance', 'avg_bal_cards', 'credit_age', 'credit_age_good_account',\n",
       "        'credit_card_age', 'num_acc_30d_past_due_12_months',\n",
       "        'num_acc_30d_past_due_6_months', 'num_mortgage_currently_past_due',\n",
       "        'tot_amount_currently_past_due', 'num_inq_12_month',\n",
       "        'num_card_inq_24_month', 'num_card_12_month', 'num_auto_ 36_month',\n",
       "        'uti_open_card', 'pct_over_50_uti', 'uti_max_credit_line',\n",
       "        'pct_card_over_50_uti', 'ind_XYZ', 'rep_income', 'Def_ind',\n",
       "        'education_college', 'education_graduate', 'education_high_school',\n",
       "        'education_other'],\n",
       "       dtype='object'),\n",
       " tot_balance                        float64\n",
       " avg_bal_cards                      float64\n",
       " credit_age                           int64\n",
       " credit_age_good_account              int64\n",
       " credit_card_age                      int64\n",
       " num_acc_30d_past_due_12_months       int64\n",
       " num_acc_30d_past_due_6_months        int64\n",
       " num_mortgage_currently_past_due      int64\n",
       " tot_amount_currently_past_due      float64\n",
       " num_inq_12_month                     int64\n",
       " num_card_inq_24_month                int64\n",
       " num_card_12_month                    int64\n",
       " num_auto_ 36_month                   int64\n",
       " uti_open_card                      float64\n",
       " pct_over_50_uti                    float64\n",
       " uti_max_credit_line                float64\n",
       " pct_card_over_50_uti               float64\n",
       " ind_XYZ                              int64\n",
       " rep_income                         float64\n",
       " Def_ind                              int64\n",
       " education_college                    uint8\n",
       " education_graduate                   uint8\n",
       " education_high_school                uint8\n",
       " education_other                      uint8\n",
       " dtype: object)"
      ]
     },
     "execution_count": 13,
     "metadata": {},
     "output_type": "execute_result"
    }
   ],
   "source": [
    "OVS.shape, OVS.columns, OVS.dtypes #36000 rows, 24 cols"
   ]
  },
  {
   "cell_type": "code",
   "execution_count": 14,
   "id": "704b4241",
   "metadata": {},
   "outputs": [
    {
     "data": {
      "text/plain": [
       "1    0.5\n",
       "0    0.5\n",
       "Name: Def_ind, dtype: float64"
      ]
     },
     "execution_count": 14,
     "metadata": {},
     "output_type": "execute_result"
    }
   ],
   "source": [
    "OVS['Def_ind'].value_counts(normalize = True) #data is balanced"
   ]
  },
  {
   "cell_type": "code",
   "execution_count": 15,
   "id": "9a7eb724",
   "metadata": {},
   "outputs": [
    {
     "data": {
      "application/vnd.jupyter.widget-view+json": {
       "model_id": "2f4922ffcadb4283b5ba5e8bb520a59c",
       "version_major": 2,
       "version_minor": 0
      },
      "text/plain": [
       "                                             |      | [  0%]   00:00 -> (? left)"
      ]
     },
     "metadata": {},
     "output_type": "display_data"
    },
    {
     "name": "stdout",
     "output_type": "stream",
     "text": [
      "Report SWEETVIZ_REPORT.html was generated! NOTEBOOK/COLAB USERS: the web browser MAY not pop up, regardless, the report IS saved in your notebook/colab files.\n"
     ]
    }
   ],
   "source": [
    "#EDA on new dataset\n",
    "report1 = sv.analyze(OVS)\n",
    "report1.show_html()"
   ]
  },
  {
   "cell_type": "code",
   "execution_count": 16,
   "id": "8ad173fa",
   "metadata": {},
   "outputs": [],
   "source": [
    "OVS_X = OVS.loc[:, ~OVS.columns.isin(['Def_ind', 'rep_education'])] #select features\n",
    "OVS_y = OVS[['Def_ind']]\n",
    "#Drop rep_education which resolves value error"
   ]
  },
  {
   "cell_type": "code",
   "execution_count": 17,
   "id": "460c1e89",
   "metadata": {},
   "outputs": [
    {
     "data": {
      "text/plain": [
       "Index(['tot_balance', 'avg_bal_cards', 'credit_age', 'credit_age_good_account',\n",
       "       'credit_card_age', 'num_acc_30d_past_due_12_months',\n",
       "       'num_acc_30d_past_due_6_months', 'num_mortgage_currently_past_due',\n",
       "       'tot_amount_currently_past_due', 'num_inq_12_month',\n",
       "       'num_card_inq_24_month', 'num_card_12_month', 'num_auto_ 36_month',\n",
       "       'uti_open_card', 'pct_over_50_uti', 'uti_max_credit_line',\n",
       "       'pct_card_over_50_uti', 'ind_XYZ', 'rep_income', 'education_college',\n",
       "       'education_graduate', 'education_high_school', 'education_other'],\n",
       "      dtype='object')"
      ]
     },
     "execution_count": 17,
     "metadata": {},
     "output_type": "execute_result"
    }
   ],
   "source": [
    "OVS_X.columns #confirm it worked"
   ]
  },
  {
   "cell_type": "code",
   "execution_count": 18,
   "id": "fd1f1f92",
   "metadata": {},
   "outputs": [],
   "source": [
    "OVS_X_train, OVS_X_test, OVS_y_train, OVS_y_test = train_test_split(OVS_X, OVS_y, test_size = 0.3, random_state = 4)\n",
    "#create training and test sets on oversampled dataset"
   ]
  },
  {
   "cell_type": "code",
   "execution_count": 19,
   "id": "809b63bd",
   "metadata": {},
   "outputs": [],
   "source": [
    "model = LogisticRegression(solver = 'saga', max_iter = 10000) #create log regression model class"
   ]
  },
  {
   "cell_type": "code",
   "execution_count": 20,
   "id": "d5cd23af",
   "metadata": {},
   "outputs": [
    {
     "data": {
      "text/html": [
       "<style>#sk-container-id-1 {color: black;}#sk-container-id-1 pre{padding: 0;}#sk-container-id-1 div.sk-toggleable {background-color: white;}#sk-container-id-1 label.sk-toggleable__label {cursor: pointer;display: block;width: 100%;margin-bottom: 0;padding: 0.3em;box-sizing: border-box;text-align: center;}#sk-container-id-1 label.sk-toggleable__label-arrow:before {content: \"▸\";float: left;margin-right: 0.25em;color: #696969;}#sk-container-id-1 label.sk-toggleable__label-arrow:hover:before {color: black;}#sk-container-id-1 div.sk-estimator:hover label.sk-toggleable__label-arrow:before {color: black;}#sk-container-id-1 div.sk-toggleable__content {max-height: 0;max-width: 0;overflow: hidden;text-align: left;background-color: #f0f8ff;}#sk-container-id-1 div.sk-toggleable__content pre {margin: 0.2em;color: black;border-radius: 0.25em;background-color: #f0f8ff;}#sk-container-id-1 input.sk-toggleable__control:checked~div.sk-toggleable__content {max-height: 200px;max-width: 100%;overflow: auto;}#sk-container-id-1 input.sk-toggleable__control:checked~label.sk-toggleable__label-arrow:before {content: \"▾\";}#sk-container-id-1 div.sk-estimator input.sk-toggleable__control:checked~label.sk-toggleable__label {background-color: #d4ebff;}#sk-container-id-1 div.sk-label input.sk-toggleable__control:checked~label.sk-toggleable__label {background-color: #d4ebff;}#sk-container-id-1 input.sk-hidden--visually {border: 0;clip: rect(1px 1px 1px 1px);clip: rect(1px, 1px, 1px, 1px);height: 1px;margin: -1px;overflow: hidden;padding: 0;position: absolute;width: 1px;}#sk-container-id-1 div.sk-estimator {font-family: monospace;background-color: #f0f8ff;border: 1px dotted black;border-radius: 0.25em;box-sizing: border-box;margin-bottom: 0.5em;}#sk-container-id-1 div.sk-estimator:hover {background-color: #d4ebff;}#sk-container-id-1 div.sk-parallel-item::after {content: \"\";width: 100%;border-bottom: 1px solid gray;flex-grow: 1;}#sk-container-id-1 div.sk-label:hover label.sk-toggleable__label {background-color: #d4ebff;}#sk-container-id-1 div.sk-serial::before {content: \"\";position: absolute;border-left: 1px solid gray;box-sizing: border-box;top: 0;bottom: 0;left: 50%;z-index: 0;}#sk-container-id-1 div.sk-serial {display: flex;flex-direction: column;align-items: center;background-color: white;padding-right: 0.2em;padding-left: 0.2em;position: relative;}#sk-container-id-1 div.sk-item {position: relative;z-index: 1;}#sk-container-id-1 div.sk-parallel {display: flex;align-items: stretch;justify-content: center;background-color: white;position: relative;}#sk-container-id-1 div.sk-item::before, #sk-container-id-1 div.sk-parallel-item::before {content: \"\";position: absolute;border-left: 1px solid gray;box-sizing: border-box;top: 0;bottom: 0;left: 50%;z-index: -1;}#sk-container-id-1 div.sk-parallel-item {display: flex;flex-direction: column;z-index: 1;position: relative;background-color: white;}#sk-container-id-1 div.sk-parallel-item:first-child::after {align-self: flex-end;width: 50%;}#sk-container-id-1 div.sk-parallel-item:last-child::after {align-self: flex-start;width: 50%;}#sk-container-id-1 div.sk-parallel-item:only-child::after {width: 0;}#sk-container-id-1 div.sk-dashed-wrapped {border: 1px dashed gray;margin: 0 0.4em 0.5em 0.4em;box-sizing: border-box;padding-bottom: 0.4em;background-color: white;}#sk-container-id-1 div.sk-label label {font-family: monospace;font-weight: bold;display: inline-block;line-height: 1.2em;}#sk-container-id-1 div.sk-label-container {text-align: center;}#sk-container-id-1 div.sk-container {/* jupyter's `normalize.less` sets `[hidden] { display: none; }` but bootstrap.min.css set `[hidden] { display: none !important; }` so we also need the `!important` here to be able to override the default hidden behavior on the sphinx rendered scikit-learn.org. See: https://github.com/scikit-learn/scikit-learn/issues/21755 */display: inline-block !important;position: relative;}#sk-container-id-1 div.sk-text-repr-fallback {display: none;}</style><div id=\"sk-container-id-1\" class=\"sk-top-container\"><div class=\"sk-text-repr-fallback\"><pre>LogisticRegression(max_iter=10000, solver=&#x27;saga&#x27;)</pre><b>In a Jupyter environment, please rerun this cell to show the HTML representation or trust the notebook. <br />On GitHub, the HTML representation is unable to render, please try loading this page with nbviewer.org.</b></div><div class=\"sk-container\" hidden><div class=\"sk-item\"><div class=\"sk-estimator sk-toggleable\"><input class=\"sk-toggleable__control sk-hidden--visually\" id=\"sk-estimator-id-1\" type=\"checkbox\" checked><label for=\"sk-estimator-id-1\" class=\"sk-toggleable__label sk-toggleable__label-arrow\">LogisticRegression</label><div class=\"sk-toggleable__content\"><pre>LogisticRegression(max_iter=10000, solver=&#x27;saga&#x27;)</pre></div></div></div></div></div>"
      ],
      "text/plain": [
       "LogisticRegression(max_iter=10000, solver='saga')"
      ]
     },
     "execution_count": 20,
     "metadata": {},
     "output_type": "execute_result"
    }
   ],
   "source": [
    "model.fit(OVS_X_train, OVS_y_train) #fit on training set"
   ]
  },
  {
   "cell_type": "code",
   "execution_count": 21,
   "id": "207d7e29",
   "metadata": {},
   "outputs": [],
   "source": [
    "OVS_y_Pred = model.predict(OVS_X_test) #predict on test set"
   ]
  },
  {
   "cell_type": "code",
   "execution_count": 22,
   "id": "75e54226",
   "metadata": {},
   "outputs": [],
   "source": [
    "OVS_accuracy = accuracy_score(OVS_y_test, OVS_y_Pred) #calculate accuracy\n",
    "OVS_precision = precision_score(OVS_y_test, OVS_y_Pred, average = 'weighted')#weighted average takes into account class distribution in the dataset\n",
    "OVS_recall = recall_score(OVS_y_test, OVS_y_Pred, average = 'weighted')#weighted average takes into account class distribution in the dataset\n"
   ]
  },
  {
   "cell_type": "code",
   "execution_count": 23,
   "id": "cc3e6064",
   "metadata": {},
   "outputs": [
    {
     "name": "stdout",
     "output_type": "stream",
     "text": [
      "Accuracy: 0.6513888888888889\n",
      "Precision: 0.6624780942801842\n",
      "Recall: 0.6513888888888889\n"
     ]
    }
   ],
   "source": [
    "print(\"Accuracy:\", OVS_accuracy)\n",
    "print(\"Precision:\", OVS_precision)\n",
    "print(\"Recall:\", OVS_recall)\n",
    "#accuracy = .65, precision = .66, recall = .65"
   ]
  },
  {
   "cell_type": "code",
   "execution_count": 24,
   "id": "1c7bf951",
   "metadata": {},
   "outputs": [
    {
     "data": {
      "image/png": "[encoded data removed]",
      "text/plain": [
       "<Figure size 600x400 with 1 Axes>"
      ]
     },
     "metadata": {},
     "output_type": "display_data"
    }
   ],
   "source": [
    "#Get predicted prob for positive class\n",
    "OVS_y_prob = model.predict_proba(OVS_X_test)[:,1]\n",
    "\n",
    "#Calculate ROC Curve\n",
    "OVSfpr, OVStpr, OVSthreshold = roc_curve(OVS_y_test, OVS_y_prob)\n",
    "\n",
    "#Calculate the Area Under the Curve\n",
    "OVSroc_auc = roc_auc_score(OVS_y_test, OVS_y_prob)\n",
    "\n",
    "#Plot the ROC curve\n",
    "plt.figure()\n",
    "plt.plot(OVSfpr, OVStpr, color='darkorange', lw=2, label='ROC curve (area = %0.2f)' % OVSroc_auc)\n",
    "plt.plot([0, 1], [0, 1], color='navy', lw=2, linestyle='--')\n",
    "plt.xlim([0.0, 1.0])\n",
    "plt.ylim([0.0, 1.05])\n",
    "plt.xlabel('False Positive Rate')\n",
    "plt.ylabel('True Positive Rate')\n",
    "plt.title('Receiver Operating Characteristic')\n",
    "plt.legend(loc='lower right')\n",
    "plt.show()\n",
    "#ROC Curve area = 0.66"
   ]
  },
  {
   "cell_type": "code",
   "execution_count": 25,
   "id": "417ff1e7",
   "metadata": {},
   "outputs": [],
   "source": [
    "UDS = pd.concat([undersampled_majority, X_minority], ignore_index=True) #create undersampled dataset"
   ]
  },
  {
   "cell_type": "code",
   "execution_count": 26,
   "id": "81dff735",
   "metadata": {},
   "outputs": [
    {
     "data": {
      "text/plain": [
       "((4000, 24),\n",
       " Index(['tot_balance', 'avg_bal_cards', 'credit_age', 'credit_age_good_account',\n",
       "        'credit_card_age', 'num_acc_30d_past_due_12_months',\n",
       "        'num_acc_30d_past_due_6_months', 'num_mortgage_currently_past_due',\n",
       "        'tot_amount_currently_past_due', 'num_inq_12_month',\n",
       "        'num_card_inq_24_month', 'num_card_12_month', 'num_auto_ 36_month',\n",
       "        'uti_open_card', 'pct_over_50_uti', 'uti_max_credit_line',\n",
       "        'pct_card_over_50_uti', 'ind_XYZ', 'rep_income', 'Def_ind',\n",
       "        'education_college', 'education_graduate', 'education_high_school',\n",
       "        'education_other'],\n",
       "       dtype='object'),\n",
       " tot_balance                        float64\n",
       " avg_bal_cards                      float64\n",
       " credit_age                           int64\n",
       " credit_age_good_account              int64\n",
       " credit_card_age                      int64\n",
       " num_acc_30d_past_due_12_months       int64\n",
       " num_acc_30d_past_due_6_months        int64\n",
       " num_mortgage_currently_past_due      int64\n",
       " tot_amount_currently_past_due      float64\n",
       " num_inq_12_month                     int64\n",
       " num_card_inq_24_month                int64\n",
       " num_card_12_month                    int64\n",
       " num_auto_ 36_month                   int64\n",
       " uti_open_card                      float64\n",
       " pct_over_50_uti                    float64\n",
       " uti_max_credit_line                float64\n",
       " pct_card_over_50_uti               float64\n",
       " ind_XYZ                              int64\n",
       " rep_income                         float64\n",
       " Def_ind                              int64\n",
       " education_college                    uint8\n",
       " education_graduate                   uint8\n",
       " education_high_school                uint8\n",
       " education_other                      uint8\n",
       " dtype: object)"
      ]
     },
     "execution_count": 26,
     "metadata": {},
     "output_type": "execute_result"
    }
   ],
   "source": [
    "UDS.shape, UDS.columns, UDS.dtypes #4000 columns, makes sense"
   ]
  },
  {
   "cell_type": "code",
   "execution_count": 27,
   "id": "fbef2581",
   "metadata": {},
   "outputs": [
    {
     "data": {
      "text/plain": [
       "0    0.5\n",
       "1    0.5\n",
       "Name: Def_ind, dtype: float64"
      ]
     },
     "execution_count": 27,
     "metadata": {},
     "output_type": "execute_result"
    }
   ],
   "source": [
    "UDS['Def_ind'].value_counts(normalize = True) #data is balanced"
   ]
  },
  {
   "cell_type": "code",
   "execution_count": 28,
   "id": "d3bb8c1f",
   "metadata": {},
   "outputs": [
    {
     "data": {
      "application/vnd.jupyter.widget-view+json": {
       "model_id": "6b82bf7e610f4cd3a8a7381f085eca00",
       "version_major": 2,
       "version_minor": 0
      },
      "text/plain": [
       "                                             |      | [  0%]   00:00 -> (? left)"
      ]
     },
     "metadata": {},
     "output_type": "display_data"
    },
    {
     "name": "stdout",
     "output_type": "stream",
     "text": [
      "Report SWEETVIZ_REPORT.html was generated! NOTEBOOK/COLAB USERS: the web browser MAY not pop up, regardless, the report IS saved in your notebook/colab files.\n"
     ]
    }
   ],
   "source": [
    "#EDA on new dataset\n",
    "report2 = sv.analyze(UDS)\n",
    "report2.show_html()"
   ]
  },
  {
   "cell_type": "code",
   "execution_count": 29,
   "id": "d013a658",
   "metadata": {},
   "outputs": [],
   "source": [
    "UDS_X = UDS.loc[:, ~UDS.columns.isin(['Def_ind', 'rep_education'])] #select features\n",
    "UDS_y = UDS[['Def_ind']]\n",
    "#Drop rep_education which resolves value error"
   ]
  },
  {
   "cell_type": "code",
   "execution_count": 30,
   "id": "277f8ddc",
   "metadata": {},
   "outputs": [
    {
     "data": {
      "text/plain": [
       "Index(['tot_balance', 'avg_bal_cards', 'credit_age', 'credit_age_good_account',\n",
       "       'credit_card_age', 'num_acc_30d_past_due_12_months',\n",
       "       'num_acc_30d_past_due_6_months', 'num_mortgage_currently_past_due',\n",
       "       'tot_amount_currently_past_due', 'num_inq_12_month',\n",
       "       'num_card_inq_24_month', 'num_card_12_month', 'num_auto_ 36_month',\n",
       "       'uti_open_card', 'pct_over_50_uti', 'uti_max_credit_line',\n",
       "       'pct_card_over_50_uti', 'ind_XYZ', 'rep_income', 'education_college',\n",
       "       'education_graduate', 'education_high_school', 'education_other'],\n",
       "      dtype='object')"
      ]
     },
     "execution_count": 30,
     "metadata": {},
     "output_type": "execute_result"
    }
   ],
   "source": [
    "UDS_X.columns #confirm it worked"
   ]
  },
  {
   "cell_type": "code",
   "execution_count": 31,
   "id": "664c3f3e",
   "metadata": {},
   "outputs": [],
   "source": [
    "UDS_X_train, UDS_X_test, UDS_y_train, UDS_y_test = train_test_split(UDS_X, UDS_y, test_size = 0.3, random_state = 4)\n",
    "#create training and test sets on undersampled dataset"
   ]
  },
  {
   "cell_type": "code",
   "execution_count": 32,
   "id": "b560c00c",
   "metadata": {},
   "outputs": [
    {
     "data": {
      "text/html": [
       "<style>#sk-container-id-2 {color: black;}#sk-container-id-2 pre{padding: 0;}#sk-container-id-2 div.sk-toggleable {background-color: white;}#sk-container-id-2 label.sk-toggleable__label {cursor: pointer;display: block;width: 100%;margin-bottom: 0;padding: 0.3em;box-sizing: border-box;text-align: center;}#sk-container-id-2 label.sk-toggleable__label-arrow:before {content: \"▸\";float: left;margin-right: 0.25em;color: #696969;}#sk-container-id-2 label.sk-toggleable__label-arrow:hover:before {color: black;}#sk-container-id-2 div.sk-estimator:hover label.sk-toggleable__label-arrow:before {color: black;}#sk-container-id-2 div.sk-toggleable__content {max-height: 0;max-width: 0;overflow: hidden;text-align: left;background-color: #f0f8ff;}#sk-container-id-2 div.sk-toggleable__content pre {margin: 0.2em;color: black;border-radius: 0.25em;background-color: #f0f8ff;}#sk-container-id-2 input.sk-toggleable__control:checked~div.sk-toggleable__content {max-height: 200px;max-width: 100%;overflow: auto;}#sk-container-id-2 input.sk-toggleable__control:checked~label.sk-toggleable__label-arrow:before {content: \"▾\";}#sk-container-id-2 div.sk-estimator input.sk-toggleable__control:checked~label.sk-toggleable__label {background-color: #d4ebff;}#sk-container-id-2 div.sk-label input.sk-toggleable__control:checked~label.sk-toggleable__label {background-color: #d4ebff;}#sk-container-id-2 input.sk-hidden--visually {border: 0;clip: rect(1px 1px 1px 1px);clip: rect(1px, 1px, 1px, 1px);height: 1px;margin: -1px;overflow: hidden;padding: 0;position: absolute;width: 1px;}#sk-container-id-2 div.sk-estimator {font-family: monospace;background-color: #f0f8ff;border: 1px dotted black;border-radius: 0.25em;box-sizing: border-box;margin-bottom: 0.5em;}#sk-container-id-2 div.sk-estimator:hover {background-color: #d4ebff;}#sk-container-id-2 div.sk-parallel-item::after {content: \"\";width: 100%;border-bottom: 1px solid gray;flex-grow: 1;}#sk-container-id-2 div.sk-label:hover label.sk-toggleable__label {background-color: #d4ebff;}#sk-container-id-2 div.sk-serial::before {content: \"\";position: absolute;border-left: 1px solid gray;box-sizing: border-box;top: 0;bottom: 0;left: 50%;z-index: 0;}#sk-container-id-2 div.sk-serial {display: flex;flex-direction: column;align-items: center;background-color: white;padding-right: 0.2em;padding-left: 0.2em;position: relative;}#sk-container-id-2 div.sk-item {position: relative;z-index: 1;}#sk-container-id-2 div.sk-parallel {display: flex;align-items: stretch;justify-content: center;background-color: white;position: relative;}#sk-container-id-2 div.sk-item::before, #sk-container-id-2 div.sk-parallel-item::before {content: \"\";position: absolute;border-left: 1px solid gray;box-sizing: border-box;top: 0;bottom: 0;left: 50%;z-index: -1;}#sk-container-id-2 div.sk-parallel-item {display: flex;flex-direction: column;z-index: 1;position: relative;background-color: white;}#sk-container-id-2 div.sk-parallel-item:first-child::after {align-self: flex-end;width: 50%;}#sk-container-id-2 div.sk-parallel-item:last-child::after {align-self: flex-start;width: 50%;}#sk-container-id-2 div.sk-parallel-item:only-child::after {width: 0;}#sk-container-id-2 div.sk-dashed-wrapped {border: 1px dashed gray;margin: 0 0.4em 0.5em 0.4em;box-sizing: border-box;padding-bottom: 0.4em;background-color: white;}#sk-container-id-2 div.sk-label label {font-family: monospace;font-weight: bold;display: inline-block;line-height: 1.2em;}#sk-container-id-2 div.sk-label-container {text-align: center;}#sk-container-id-2 div.sk-container {/* jupyter's `normalize.less` sets `[hidden] { display: none; }` but bootstrap.min.css set `[hidden] { display: none !important; }` so we also need the `!important` here to be able to override the default hidden behavior on the sphinx rendered scikit-learn.org. See: https://github.com/scikit-learn/scikit-learn/issues/21755 */display: inline-block !important;position: relative;}#sk-container-id-2 div.sk-text-repr-fallback {display: none;}</style><div id=\"sk-container-id-2\" class=\"sk-top-container\"><div class=\"sk-text-repr-fallback\"><pre>LogisticRegression(max_iter=10000, solver=&#x27;saga&#x27;)</pre><b>In a Jupyter environment, please rerun this cell to show the HTML representation or trust the notebook. <br />On GitHub, the HTML representation is unable to render, please try loading this page with nbviewer.org.</b></div><div class=\"sk-container\" hidden><div class=\"sk-item\"><div class=\"sk-estimator sk-toggleable\"><input class=\"sk-toggleable__control sk-hidden--visually\" id=\"sk-estimator-id-2\" type=\"checkbox\" checked><label for=\"sk-estimator-id-2\" class=\"sk-toggleable__label sk-toggleable__label-arrow\">LogisticRegression</label><div class=\"sk-toggleable__content\"><pre>LogisticRegression(max_iter=10000, solver=&#x27;saga&#x27;)</pre></div></div></div></div></div>"
      ],
      "text/plain": [
       "LogisticRegression(max_iter=10000, solver='saga')"
      ]
     },
     "execution_count": 32,
     "metadata": {},
     "output_type": "execute_result"
    }
   ],
   "source": [
    "model.fit(UDS_X_train, UDS_y_train) #fit on training set"
   ]
  },
  {
   "cell_type": "code",
   "execution_count": 33,
   "id": "48af9f20",
   "metadata": {},
   "outputs": [],
   "source": [
    "UDS_y_Pred = model.predict(UDS_X_test) #predict on test set"
   ]
  },
  {
   "cell_type": "code",
   "execution_count": 34,
   "id": "172c91ee",
   "metadata": {},
   "outputs": [],
   "source": [
    "UDS_accuracy = accuracy_score(UDS_y_test, UDS_y_Pred) #calculate accuracy\n",
    "UDS_precision = precision_score(UDS_y_test, UDS_y_Pred, average = 'weighted')#weighted average takes into account class distribution in the dataset\n",
    "UDS_recall = recall_score(UDS_y_test, UDS_y_Pred, average = 'weighted')#weighted average takes into account class distribution in the dataset\n"
   ]
  },
  {
   "cell_type": "code",
   "execution_count": 35,
   "id": "1d3928d4",
   "metadata": {},
   "outputs": [
    {
     "name": "stdout",
     "output_type": "stream",
     "text": [
      "Accuracy: 0.6408333333333334\n",
      "Precision: 0.6515978289528878\n",
      "Recall: 0.6408333333333334\n"
     ]
    }
   ],
   "source": [
    "print(\"Accuracy:\", UDS_accuracy)\n",
    "print(\"Precision:\", UDS_precision)\n",
    "print(\"Recall:\", UDS_recall)\n",
    "#accuracy = .64, precision = .65, recall = .64"
   ]
  },
  {
   "cell_type": "code",
   "execution_count": 36,
   "id": "ef6d3d58",
   "metadata": {},
   "outputs": [
    {
     "data": {
      "image/png": "[encoded data removed]",
      "text/plain": [
       "<Figure size 600x400 with 1 Axes>"
      ]
     },
     "metadata": {},
     "output_type": "display_data"
    }
   ],
   "source": [
    "#Get predicted prob for positive class\n",
    "UDS_y_prob = model.predict_proba(UDS_X_test)[:,1]\n",
    "\n",
    "#Calculate ROC Curve\n",
    "UDSfpr, UDStpr, UDSthreshold = roc_curve(UDS_y_test, UDS_y_prob)\n",
    "\n",
    "#Calculate the Area Under the Curve\n",
    "UDSroc_auc = roc_auc_score(UDS_y_test, UDS_y_prob)\n",
    "\n",
    "#Plot the ROC curve\n",
    "plt.figure()\n",
    "plt.plot(UDSfpr, UDStpr, color='darkorange', lw=2, label='ROC curve (area = %0.2f)' % UDSroc_auc)\n",
    "plt.plot([0, 1], [0, 1], color='navy', lw=2, linestyle='--')\n",
    "plt.xlim([0.0, 1.0])\n",
    "plt.ylim([0.0, 1.05])\n",
    "plt.xlabel('False Positive Rate')\n",
    "plt.ylabel('True Positive Rate')\n",
    "plt.title('Receiver Operating Characteristic')\n",
    "plt.legend(loc='lower right')\n",
    "plt.show()\n",
    "#ROC Curve area = 0.67"
   ]
  },
  {
   "cell_type": "code",
   "execution_count": 37,
   "id": "35882625",
   "metadata": {},
   "outputs": [],
   "source": [
    "sm = SMOTE(random_state=42) #use smote function"
   ]
  },
  {
   "cell_type": "code",
   "execution_count": 38,
   "id": "65225c5d",
   "metadata": {},
   "outputs": [],
   "source": [
    "df_x = df.loc[:, ~df.columns.isin(['Def_ind', 'rep_education'])] #select features\n",
    "df_y = df[['Def_ind']]\n",
    "#Drop rep_education which resolves value error"
   ]
  },
  {
   "cell_type": "code",
   "execution_count": 39,
   "id": "5979ecb6",
   "metadata": {},
   "outputs": [],
   "source": [
    "X_res, y_res = sm.fit_resample(df_x, df_y) #join these two together before concatenating\n",
    "#concatenate with X_majority"
   ]
  },
  {
   "cell_type": "code",
   "execution_count": 40,
   "id": "f390d17f",
   "metadata": {},
   "outputs": [],
   "source": [
    "smoteoversample = pd.DataFrame(X_res, columns = df_x.columns) #create smote dataset\n",
    "smoteoversample['Def_ind'] = y_res #joined x and y and concatenated it with oversampled df"
   ]
  },
  {
   "cell_type": "code",
   "execution_count": 41,
   "id": "caa9e741",
   "metadata": {},
   "outputs": [
    {
     "data": {
      "text/plain": [
       "0    0.5\n",
       "1    0.5\n",
       "Name: Def_ind, dtype: float64"
      ]
     },
     "execution_count": 41,
     "metadata": {},
     "output_type": "execute_result"
    }
   ],
   "source": [
    "smoteoversample['Def_ind'].value_counts(normalize = True) #data is balanced"
   ]
  },
  {
   "cell_type": "code",
   "execution_count": 42,
   "id": "ef89b126",
   "metadata": {},
   "outputs": [
    {
     "data": {
      "text/plain": [
       "((36000, 24),\n",
       " Index(['tot_balance', 'avg_bal_cards', 'credit_age', 'credit_age_good_account',\n",
       "        'credit_card_age', 'num_acc_30d_past_due_12_months',\n",
       "        'num_acc_30d_past_due_6_months', 'num_mortgage_currently_past_due',\n",
       "        'tot_amount_currently_past_due', 'num_inq_12_month',\n",
       "        'num_card_inq_24_month', 'num_card_12_month', 'num_auto_ 36_month',\n",
       "        'uti_open_card', 'pct_over_50_uti', 'uti_max_credit_line',\n",
       "        'pct_card_over_50_uti', 'ind_XYZ', 'rep_income', 'education_college',\n",
       "        'education_graduate', 'education_high_school', 'education_other',\n",
       "        'Def_ind'],\n",
       "       dtype='object'),\n",
       " tot_balance                        float64\n",
       " avg_bal_cards                      float64\n",
       " credit_age                           int64\n",
       " credit_age_good_account              int64\n",
       " credit_card_age                      int64\n",
       " num_acc_30d_past_due_12_months       int64\n",
       " num_acc_30d_past_due_6_months        int64\n",
       " num_mortgage_currently_past_due      int64\n",
       " tot_amount_currently_past_due      float64\n",
       " num_inq_12_month                     int64\n",
       " num_card_inq_24_month                int64\n",
       " num_card_12_month                    int64\n",
       " num_auto_ 36_month                   int64\n",
       " uti_open_card                      float64\n",
       " pct_over_50_uti                    float64\n",
       " uti_max_credit_line                float64\n",
       " pct_card_over_50_uti               float64\n",
       " ind_XYZ                              int64\n",
       " rep_income                         float64\n",
       " education_college                    uint8\n",
       " education_graduate                   uint8\n",
       " education_high_school                uint8\n",
       " education_other                      uint8\n",
       " Def_ind                              int64\n",
       " dtype: object)"
      ]
     },
     "execution_count": 42,
     "metadata": {},
     "output_type": "execute_result"
    }
   ],
   "source": [
    "smoteoversample.shape, smoteoversample.columns, smoteoversample.dtypes #oversample worked I have 36000 rows"
   ]
  },
  {
   "cell_type": "code",
   "execution_count": 43,
   "id": "74e376af",
   "metadata": {},
   "outputs": [
    {
     "data": {
      "application/vnd.jupyter.widget-view+json": {
       "model_id": "7d7416a12c3b446e96cca242d9289fec",
       "version_major": 2,
       "version_minor": 0
      },
      "text/plain": [
       "                                             |      | [  0%]   00:00 -> (? left)"
      ]
     },
     "metadata": {},
     "output_type": "display_data"
    },
    {
     "name": "stdout",
     "output_type": "stream",
     "text": [
      "Report SWEETVIZ_REPORT.html was generated! NOTEBOOK/COLAB USERS: the web browser MAY not pop up, regardless, the report IS saved in your notebook/colab files.\n"
     ]
    }
   ],
   "source": [
    "#EDA on new dataset\n",
    "report = sv.analyze(smoteoversample)\n",
    "report.show_html()"
   ]
  },
  {
   "cell_type": "code",
   "execution_count": 44,
   "id": "152c7eae",
   "metadata": {},
   "outputs": [],
   "source": [
    "#Fit model on smote dataset\n",
    "SM_X = smoteoversample.drop(['Def_ind'], axis=1) #Exclude dependent variable\n",
    "SM_y = smoteoversample['Def_ind'] #select dependent variable"
   ]
  },
  {
   "cell_type": "code",
   "execution_count": 45,
   "id": "548b694b",
   "metadata": {},
   "outputs": [],
   "source": [
    "SM_X_train, SM_X_test, SM_y_train, SM_y_test = train_test_split(SM_X, SM_y, test_size = 0.3, random_state = 4)\n",
    "#create training and test sets on smote dataset"
   ]
  },
  {
   "cell_type": "code",
   "execution_count": null,
   "id": "bd19252d",
   "metadata": {},
   "outputs": [],
   "source": []
  },
  {
   "cell_type": "code",
   "execution_count": 46,
   "id": "2abd81e1",
   "metadata": {},
   "outputs": [
    {
     "data": {
      "text/html": [
       "<style>#sk-container-id-3 {color: black;}#sk-container-id-3 pre{padding: 0;}#sk-container-id-3 div.sk-toggleable {background-color: white;}#sk-container-id-3 label.sk-toggleable__label {cursor: pointer;display: block;width: 100%;margin-bottom: 0;padding: 0.3em;box-sizing: border-box;text-align: center;}#sk-container-id-3 label.sk-toggleable__label-arrow:before {content: \"▸\";float: left;margin-right: 0.25em;color: #696969;}#sk-container-id-3 label.sk-toggleable__label-arrow:hover:before {color: black;}#sk-container-id-3 div.sk-estimator:hover label.sk-toggleable__label-arrow:before {color: black;}#sk-container-id-3 div.sk-toggleable__content {max-height: 0;max-width: 0;overflow: hidden;text-align: left;background-color: #f0f8ff;}#sk-container-id-3 div.sk-toggleable__content pre {margin: 0.2em;color: black;border-radius: 0.25em;background-color: #f0f8ff;}#sk-container-id-3 input.sk-toggleable__control:checked~div.sk-toggleable__content {max-height: 200px;max-width: 100%;overflow: auto;}#sk-container-id-3 input.sk-toggleable__control:checked~label.sk-toggleable__label-arrow:before {content: \"▾\";}#sk-container-id-3 div.sk-estimator input.sk-toggleable__control:checked~label.sk-toggleable__label {background-color: #d4ebff;}#sk-container-id-3 div.sk-label input.sk-toggleable__control:checked~label.sk-toggleable__label {background-color: #d4ebff;}#sk-container-id-3 input.sk-hidden--visually {border: 0;clip: rect(1px 1px 1px 1px);clip: rect(1px, 1px, 1px, 1px);height: 1px;margin: -1px;overflow: hidden;padding: 0;position: absolute;width: 1px;}#sk-container-id-3 div.sk-estimator {font-family: monospace;background-color: #f0f8ff;border: 1px dotted black;border-radius: 0.25em;box-sizing: border-box;margin-bottom: 0.5em;}#sk-container-id-3 div.sk-estimator:hover {background-color: #d4ebff;}#sk-container-id-3 div.sk-parallel-item::after {content: \"\";width: 100%;border-bottom: 1px solid gray;flex-grow: 1;}#sk-container-id-3 div.sk-label:hover label.sk-toggleable__label {background-color: #d4ebff;}#sk-container-id-3 div.sk-serial::before {content: \"\";position: absolute;border-left: 1px solid gray;box-sizing: border-box;top: 0;bottom: 0;left: 50%;z-index: 0;}#sk-container-id-3 div.sk-serial {display: flex;flex-direction: column;align-items: center;background-color: white;padding-right: 0.2em;padding-left: 0.2em;position: relative;}#sk-container-id-3 div.sk-item {position: relative;z-index: 1;}#sk-container-id-3 div.sk-parallel {display: flex;align-items: stretch;justify-content: center;background-color: white;position: relative;}#sk-container-id-3 div.sk-item::before, #sk-container-id-3 div.sk-parallel-item::before {content: \"\";position: absolute;border-left: 1px solid gray;box-sizing: border-box;top: 0;bottom: 0;left: 50%;z-index: -1;}#sk-container-id-3 div.sk-parallel-item {display: flex;flex-direction: column;z-index: 1;position: relative;background-color: white;}#sk-container-id-3 div.sk-parallel-item:first-child::after {align-self: flex-end;width: 50%;}#sk-container-id-3 div.sk-parallel-item:last-child::after {align-self: flex-start;width: 50%;}#sk-container-id-3 div.sk-parallel-item:only-child::after {width: 0;}#sk-container-id-3 div.sk-dashed-wrapped {border: 1px dashed gray;margin: 0 0.4em 0.5em 0.4em;box-sizing: border-box;padding-bottom: 0.4em;background-color: white;}#sk-container-id-3 div.sk-label label {font-family: monospace;font-weight: bold;display: inline-block;line-height: 1.2em;}#sk-container-id-3 div.sk-label-container {text-align: center;}#sk-container-id-3 div.sk-container {/* jupyter's `normalize.less` sets `[hidden] { display: none; }` but bootstrap.min.css set `[hidden] { display: none !important; }` so we also need the `!important` here to be able to override the default hidden behavior on the sphinx rendered scikit-learn.org. See: https://github.com/scikit-learn/scikit-learn/issues/21755 */display: inline-block !important;position: relative;}#sk-container-id-3 div.sk-text-repr-fallback {display: none;}</style><div id=\"sk-container-id-3\" class=\"sk-top-container\"><div class=\"sk-text-repr-fallback\"><pre>LogisticRegression(max_iter=10000, solver=&#x27;saga&#x27;)</pre><b>In a Jupyter environment, please rerun this cell to show the HTML representation or trust the notebook. <br />On GitHub, the HTML representation is unable to render, please try loading this page with nbviewer.org.</b></div><div class=\"sk-container\" hidden><div class=\"sk-item\"><div class=\"sk-estimator sk-toggleable\"><input class=\"sk-toggleable__control sk-hidden--visually\" id=\"sk-estimator-id-3\" type=\"checkbox\" checked><label for=\"sk-estimator-id-3\" class=\"sk-toggleable__label sk-toggleable__label-arrow\">LogisticRegression</label><div class=\"sk-toggleable__content\"><pre>LogisticRegression(max_iter=10000, solver=&#x27;saga&#x27;)</pre></div></div></div></div></div>"
      ],
      "text/plain": [
       "LogisticRegression(max_iter=10000, solver='saga')"
      ]
     },
     "execution_count": 46,
     "metadata": {},
     "output_type": "execute_result"
    }
   ],
   "source": [
    "model.fit(SM_X_train, SM_y_train) #fit on training set"
   ]
  },
  {
   "cell_type": "code",
   "execution_count": 47,
   "id": "f8332bed",
   "metadata": {},
   "outputs": [],
   "source": [
    "SM_y_Pred = model.predict(SM_X_test) #predict on test set"
   ]
  },
  {
   "cell_type": "code",
   "execution_count": 48,
   "id": "08723df5",
   "metadata": {},
   "outputs": [],
   "source": [
    "SM_accuracy = accuracy_score(SM_y_test, SM_y_Pred) #calculate accuracy\n",
    "SM_precision = precision_score(SM_y_test, SM_y_Pred, average = 'weighted')#weighted average takes into account class distribution in the dataset\n",
    "SM_recall = recall_score(SM_y_test, SM_y_Pred, average = 'weighted')#weighted average takes into account class distribution in the dataset\n"
   ]
  },
  {
   "cell_type": "code",
   "execution_count": 49,
   "id": "bf60a740",
   "metadata": {},
   "outputs": [
    {
     "name": "stdout",
     "output_type": "stream",
     "text": [
      "Accuracy: 0.6513888888888889\n",
      "Precision: 0.663690719214347\n",
      "Recall: 0.6513888888888889\n"
     ]
    }
   ],
   "source": [
    "print(\"Accuracy:\", SM_accuracy)\n",
    "print(\"Precision:\", SM_precision)\n",
    "print(\"Recall:\", SM_recall)\n",
    "#accuracy = .65, precision = .66, recall = .65"
   ]
  },
  {
   "cell_type": "code",
   "execution_count": 50,
   "id": "54b9e00f",
   "metadata": {},
   "outputs": [
    {
     "data": {
      "image/png": "[encoded data removed]",
      "text/plain": [
       "<Figure size 600x400 with 1 Axes>"
      ]
     },
     "metadata": {},
     "output_type": "display_data"
    }
   ],
   "source": [
    "#Get predicted prob for positive class\n",
    "SM_y_prob = model.predict_proba(SM_X_test)[:,1]\n",
    "\n",
    "#Calculate ROC Curve\n",
    "SMfpr, SMtpr, SMthreshold = roc_curve(SM_y_test, SM_y_prob)\n",
    "\n",
    "#Calculate the Area Under the Curve\n",
    "SMroc_auc = roc_auc_score(SM_y_test, SM_y_prob)\n",
    "\n",
    "#Plot the ROC curve\n",
    "plt.figure()\n",
    "plt.plot(SMfpr, SMtpr, color='darkorange', lw=2, label='ROC curve (area = %0.2f)' % SMroc_auc)\n",
    "plt.plot([0, 1], [0, 1], color='navy', lw=2, linestyle='--')\n",
    "plt.xlim([0.0, 1.0])\n",
    "plt.ylim([0.0, 1.05])\n",
    "plt.xlabel('False Positive Rate')\n",
    "plt.ylabel('True Positive Rate')\n",
    "plt.title('Receiver Operating Characteristic')\n",
    "plt.legend(loc='lower right')\n",
    "plt.show()\n",
    "#ROC Curve area = 0.70"
   ]
  },
  {
   "cell_type": "code",
   "execution_count": 51,
   "id": "13d6ef0d",
   "metadata": {},
   "outputs": [],
   "source": [
    "#LDA Models"
   ]
  },
  {
   "cell_type": "code",
   "execution_count": 52,
   "id": "810fe027",
   "metadata": {},
   "outputs": [],
   "source": [
    "model2 = LinearDiscriminantAnalysis() #Creates LDA class"
   ]
  },
  {
   "cell_type": "code",
   "execution_count": 53,
   "id": "7945c9d6",
   "metadata": {},
   "outputs": [
    {
     "data": {
      "text/html": [
       "<style>#sk-container-id-4 {color: black;}#sk-container-id-4 pre{padding: 0;}#sk-container-id-4 div.sk-toggleable {background-color: white;}#sk-container-id-4 label.sk-toggleable__label {cursor: pointer;display: block;width: 100%;margin-bottom: 0;padding: 0.3em;box-sizing: border-box;text-align: center;}#sk-container-id-4 label.sk-toggleable__label-arrow:before {content: \"▸\";float: left;margin-right: 0.25em;color: #696969;}#sk-container-id-4 label.sk-toggleable__label-arrow:hover:before {color: black;}#sk-container-id-4 div.sk-estimator:hover label.sk-toggleable__label-arrow:before {color: black;}#sk-container-id-4 div.sk-toggleable__content {max-height: 0;max-width: 0;overflow: hidden;text-align: left;background-color: #f0f8ff;}#sk-container-id-4 div.sk-toggleable__content pre {margin: 0.2em;color: black;border-radius: 0.25em;background-color: #f0f8ff;}#sk-container-id-4 input.sk-toggleable__control:checked~div.sk-toggleable__content {max-height: 200px;max-width: 100%;overflow: auto;}#sk-container-id-4 input.sk-toggleable__control:checked~label.sk-toggleable__label-arrow:before {content: \"▾\";}#sk-container-id-4 div.sk-estimator input.sk-toggleable__control:checked~label.sk-toggleable__label {background-color: #d4ebff;}#sk-container-id-4 div.sk-label input.sk-toggleable__control:checked~label.sk-toggleable__label {background-color: #d4ebff;}#sk-container-id-4 input.sk-hidden--visually {border: 0;clip: rect(1px 1px 1px 1px);clip: rect(1px, 1px, 1px, 1px);height: 1px;margin: -1px;overflow: hidden;padding: 0;position: absolute;width: 1px;}#sk-container-id-4 div.sk-estimator {font-family: monospace;background-color: #f0f8ff;border: 1px dotted black;border-radius: 0.25em;box-sizing: border-box;margin-bottom: 0.5em;}#sk-container-id-4 div.sk-estimator:hover {background-color: #d4ebff;}#sk-container-id-4 div.sk-parallel-item::after {content: \"\";width: 100%;border-bottom: 1px solid gray;flex-grow: 1;}#sk-container-id-4 div.sk-label:hover label.sk-toggleable__label {background-color: #d4ebff;}#sk-container-id-4 div.sk-serial::before {content: \"\";position: absolute;border-left: 1px solid gray;box-sizing: border-box;top: 0;bottom: 0;left: 50%;z-index: 0;}#sk-container-id-4 div.sk-serial {display: flex;flex-direction: column;align-items: center;background-color: white;padding-right: 0.2em;padding-left: 0.2em;position: relative;}#sk-container-id-4 div.sk-item {position: relative;z-index: 1;}#sk-container-id-4 div.sk-parallel {display: flex;align-items: stretch;justify-content: center;background-color: white;position: relative;}#sk-container-id-4 div.sk-item::before, #sk-container-id-4 div.sk-parallel-item::before {content: \"\";position: absolute;border-left: 1px solid gray;box-sizing: border-box;top: 0;bottom: 0;left: 50%;z-index: -1;}#sk-container-id-4 div.sk-parallel-item {display: flex;flex-direction: column;z-index: 1;position: relative;background-color: white;}#sk-container-id-4 div.sk-parallel-item:first-child::after {align-self: flex-end;width: 50%;}#sk-container-id-4 div.sk-parallel-item:last-child::after {align-self: flex-start;width: 50%;}#sk-container-id-4 div.sk-parallel-item:only-child::after {width: 0;}#sk-container-id-4 div.sk-dashed-wrapped {border: 1px dashed gray;margin: 0 0.4em 0.5em 0.4em;box-sizing: border-box;padding-bottom: 0.4em;background-color: white;}#sk-container-id-4 div.sk-label label {font-family: monospace;font-weight: bold;display: inline-block;line-height: 1.2em;}#sk-container-id-4 div.sk-label-container {text-align: center;}#sk-container-id-4 div.sk-container {/* jupyter's `normalize.less` sets `[hidden] { display: none; }` but bootstrap.min.css set `[hidden] { display: none !important; }` so we also need the `!important` here to be able to override the default hidden behavior on the sphinx rendered scikit-learn.org. See: https://github.com/scikit-learn/scikit-learn/issues/21755 */display: inline-block !important;position: relative;}#sk-container-id-4 div.sk-text-repr-fallback {display: none;}</style><div id=\"sk-container-id-4\" class=\"sk-top-container\"><div class=\"sk-text-repr-fallback\"><pre>LinearDiscriminantAnalysis()</pre><b>In a Jupyter environment, please rerun this cell to show the HTML representation or trust the notebook. <br />On GitHub, the HTML representation is unable to render, please try loading this page with nbviewer.org.</b></div><div class=\"sk-container\" hidden><div class=\"sk-item\"><div class=\"sk-estimator sk-toggleable\"><input class=\"sk-toggleable__control sk-hidden--visually\" id=\"sk-estimator-id-4\" type=\"checkbox\" checked><label for=\"sk-estimator-id-4\" class=\"sk-toggleable__label sk-toggleable__label-arrow\">LinearDiscriminantAnalysis</label><div class=\"sk-toggleable__content\"><pre>LinearDiscriminantAnalysis()</pre></div></div></div></div></div>"
      ],
      "text/plain": [
       "LinearDiscriminantAnalysis()"
      ]
     },
     "execution_count": 53,
     "metadata": {},
     "output_type": "execute_result"
    }
   ],
   "source": [
    "model2.fit(SM_X_train, SM_y_train) #fit model on smote dataset"
   ]
  },
  {
   "cell_type": "code",
   "execution_count": 54,
   "id": "34d1821a",
   "metadata": {},
   "outputs": [
    {
     "name": "stdout",
     "output_type": "stream",
     "text": [
      "Accuracy: 0.8207407407407408\n",
      "Precision: 0.8322611177423086\n",
      "Recall: 0.8207407407407408\n"
     ]
    }
   ],
   "source": [
    "SM_y_Pred2 = model2.predict(SM_X_test) #predict on test set\n",
    "\n",
    "SM_accuracy2 = accuracy_score(SM_y_test, SM_y_Pred2) #calculate accuracy\n",
    "SM_precision2 = precision_score(SM_y_test, SM_y_Pred2, average = 'weighted')#weighted average takes into account class distribution in the dataset\n",
    "SM_recall2 = recall_score(SM_y_test, SM_y_Pred2, average = 'weighted')#weighted average takes into account class distribution in the dataset\n",
    "\n",
    "print(\"Accuracy:\", SM_accuracy2)\n",
    "print(\"Precision:\", SM_precision2)\n",
    "print(\"Recall:\", SM_recall2)\n",
    "#accuracy = .82, precision = .83, recall = .82"
   ]
  },
  {
   "cell_type": "code",
   "execution_count": 55,
   "id": "5517d785",
   "metadata": {},
   "outputs": [
    {
     "data": {
      "text/html": [
       "<style>#sk-container-id-5 {color: black;}#sk-container-id-5 pre{padding: 0;}#sk-container-id-5 div.sk-toggleable {background-color: white;}#sk-container-id-5 label.sk-toggleable__label {cursor: pointer;display: block;width: 100%;margin-bottom: 0;padding: 0.3em;box-sizing: border-box;text-align: center;}#sk-container-id-5 label.sk-toggleable__label-arrow:before {content: \"▸\";float: left;margin-right: 0.25em;color: #696969;}#sk-container-id-5 label.sk-toggleable__label-arrow:hover:before {color: black;}#sk-container-id-5 div.sk-estimator:hover label.sk-toggleable__label-arrow:before {color: black;}#sk-container-id-5 div.sk-toggleable__content {max-height: 0;max-width: 0;overflow: hidden;text-align: left;background-color: #f0f8ff;}#sk-container-id-5 div.sk-toggleable__content pre {margin: 0.2em;color: black;border-radius: 0.25em;background-color: #f0f8ff;}#sk-container-id-5 input.sk-toggleable__control:checked~div.sk-toggleable__content {max-height: 200px;max-width: 100%;overflow: auto;}#sk-container-id-5 input.sk-toggleable__control:checked~label.sk-toggleable__label-arrow:before {content: \"▾\";}#sk-container-id-5 div.sk-estimator input.sk-toggleable__control:checked~label.sk-toggleable__label {background-color: #d4ebff;}#sk-container-id-5 div.sk-label input.sk-toggleable__control:checked~label.sk-toggleable__label {background-color: #d4ebff;}#sk-container-id-5 input.sk-hidden--visually {border: 0;clip: rect(1px 1px 1px 1px);clip: rect(1px, 1px, 1px, 1px);height: 1px;margin: -1px;overflow: hidden;padding: 0;position: absolute;width: 1px;}#sk-container-id-5 div.sk-estimator {font-family: monospace;background-color: #f0f8ff;border: 1px dotted black;border-radius: 0.25em;box-sizing: border-box;margin-bottom: 0.5em;}#sk-container-id-5 div.sk-estimator:hover {background-color: #d4ebff;}#sk-container-id-5 div.sk-parallel-item::after {content: \"\";width: 100%;border-bottom: 1px solid gray;flex-grow: 1;}#sk-container-id-5 div.sk-label:hover label.sk-toggleable__label {background-color: #d4ebff;}#sk-container-id-5 div.sk-serial::before {content: \"\";position: absolute;border-left: 1px solid gray;box-sizing: border-box;top: 0;bottom: 0;left: 50%;z-index: 0;}#sk-container-id-5 div.sk-serial {display: flex;flex-direction: column;align-items: center;background-color: white;padding-right: 0.2em;padding-left: 0.2em;position: relative;}#sk-container-id-5 div.sk-item {position: relative;z-index: 1;}#sk-container-id-5 div.sk-parallel {display: flex;align-items: stretch;justify-content: center;background-color: white;position: relative;}#sk-container-id-5 div.sk-item::before, #sk-container-id-5 div.sk-parallel-item::before {content: \"\";position: absolute;border-left: 1px solid gray;box-sizing: border-box;top: 0;bottom: 0;left: 50%;z-index: -1;}#sk-container-id-5 div.sk-parallel-item {display: flex;flex-direction: column;z-index: 1;position: relative;background-color: white;}#sk-container-id-5 div.sk-parallel-item:first-child::after {align-self: flex-end;width: 50%;}#sk-container-id-5 div.sk-parallel-item:last-child::after {align-self: flex-start;width: 50%;}#sk-container-id-5 div.sk-parallel-item:only-child::after {width: 0;}#sk-container-id-5 div.sk-dashed-wrapped {border: 1px dashed gray;margin: 0 0.4em 0.5em 0.4em;box-sizing: border-box;padding-bottom: 0.4em;background-color: white;}#sk-container-id-5 div.sk-label label {font-family: monospace;font-weight: bold;display: inline-block;line-height: 1.2em;}#sk-container-id-5 div.sk-label-container {text-align: center;}#sk-container-id-5 div.sk-container {/* jupyter's `normalize.less` sets `[hidden] { display: none; }` but bootstrap.min.css set `[hidden] { display: none !important; }` so we also need the `!important` here to be able to override the default hidden behavior on the sphinx rendered scikit-learn.org. See: https://github.com/scikit-learn/scikit-learn/issues/21755 */display: inline-block !important;position: relative;}#sk-container-id-5 div.sk-text-repr-fallback {display: none;}</style><div id=\"sk-container-id-5\" class=\"sk-top-container\"><div class=\"sk-text-repr-fallback\"><pre>LinearDiscriminantAnalysis()</pre><b>In a Jupyter environment, please rerun this cell to show the HTML representation or trust the notebook. <br />On GitHub, the HTML representation is unable to render, please try loading this page with nbviewer.org.</b></div><div class=\"sk-container\" hidden><div class=\"sk-item\"><div class=\"sk-estimator sk-toggleable\"><input class=\"sk-toggleable__control sk-hidden--visually\" id=\"sk-estimator-id-5\" type=\"checkbox\" checked><label for=\"sk-estimator-id-5\" class=\"sk-toggleable__label sk-toggleable__label-arrow\">LinearDiscriminantAnalysis</label><div class=\"sk-toggleable__content\"><pre>LinearDiscriminantAnalysis()</pre></div></div></div></div></div>"
      ],
      "text/plain": [
       "LinearDiscriminantAnalysis()"
      ]
     },
     "execution_count": 55,
     "metadata": {},
     "output_type": "execute_result"
    }
   ],
   "source": [
    "model2.fit(OVS_X_train, OVS_y_train) #fit model on oversample dataset"
   ]
  },
  {
   "cell_type": "code",
   "execution_count": 56,
   "id": "65f620ca",
   "metadata": {},
   "outputs": [
    {
     "name": "stdout",
     "output_type": "stream",
     "text": [
      "Accuracy: 0.7183333333333334\n",
      "Precision: 0.7192633431894299\n",
      "Recall: 0.7183333333333334\n"
     ]
    }
   ],
   "source": [
    "OVS_y_Pred2 = model2.predict(OVS_X_test) #predict on test set\n",
    "\n",
    "OVS_accuracy2 = accuracy_score(OVS_y_test, OVS_y_Pred2) #calculate accuracy\n",
    "OVS_precision2 = precision_score(OVS_y_test, OVS_y_Pred2, average = 'weighted')#weighted average takes into account class distribution in the dataset\n",
    "OVS_recall2 = recall_score(OVS_y_test, OVS_y_Pred2, average = 'weighted')#weighted average takes into account class distribution in the dataset\n",
    "\n",
    "print(\"Accuracy:\", OVS_accuracy2)\n",
    "print(\"Precision:\", OVS_precision2)\n",
    "print(\"Recall:\", OVS_recall2)\n",
    "#accuracy = .72, precision = .72, recall = .72"
   ]
  },
  {
   "cell_type": "code",
   "execution_count": 57,
   "id": "5886ebee",
   "metadata": {},
   "outputs": [
    {
     "data": {
      "text/html": [
       "<style>#sk-container-id-6 {color: black;}#sk-container-id-6 pre{padding: 0;}#sk-container-id-6 div.sk-toggleable {background-color: white;}#sk-container-id-6 label.sk-toggleable__label {cursor: pointer;display: block;width: 100%;margin-bottom: 0;padding: 0.3em;box-sizing: border-box;text-align: center;}#sk-container-id-6 label.sk-toggleable__label-arrow:before {content: \"▸\";float: left;margin-right: 0.25em;color: #696969;}#sk-container-id-6 label.sk-toggleable__label-arrow:hover:before {color: black;}#sk-container-id-6 div.sk-estimator:hover label.sk-toggleable__label-arrow:before {color: black;}#sk-container-id-6 div.sk-toggleable__content {max-height: 0;max-width: 0;overflow: hidden;text-align: left;background-color: #f0f8ff;}#sk-container-id-6 div.sk-toggleable__content pre {margin: 0.2em;color: black;border-radius: 0.25em;background-color: #f0f8ff;}#sk-container-id-6 input.sk-toggleable__control:checked~div.sk-toggleable__content {max-height: 200px;max-width: 100%;overflow: auto;}#sk-container-id-6 input.sk-toggleable__control:checked~label.sk-toggleable__label-arrow:before {content: \"▾\";}#sk-container-id-6 div.sk-estimator input.sk-toggleable__control:checked~label.sk-toggleable__label {background-color: #d4ebff;}#sk-container-id-6 div.sk-label input.sk-toggleable__control:checked~label.sk-toggleable__label {background-color: #d4ebff;}#sk-container-id-6 input.sk-hidden--visually {border: 0;clip: rect(1px 1px 1px 1px);clip: rect(1px, 1px, 1px, 1px);height: 1px;margin: -1px;overflow: hidden;padding: 0;position: absolute;width: 1px;}#sk-container-id-6 div.sk-estimator {font-family: monospace;background-color: #f0f8ff;border: 1px dotted black;border-radius: 0.25em;box-sizing: border-box;margin-bottom: 0.5em;}#sk-container-id-6 div.sk-estimator:hover {background-color: #d4ebff;}#sk-container-id-6 div.sk-parallel-item::after {content: \"\";width: 100%;border-bottom: 1px solid gray;flex-grow: 1;}#sk-container-id-6 div.sk-label:hover label.sk-toggleable__label {background-color: #d4ebff;}#sk-container-id-6 div.sk-serial::before {content: \"\";position: absolute;border-left: 1px solid gray;box-sizing: border-box;top: 0;bottom: 0;left: 50%;z-index: 0;}#sk-container-id-6 div.sk-serial {display: flex;flex-direction: column;align-items: center;background-color: white;padding-right: 0.2em;padding-left: 0.2em;position: relative;}#sk-container-id-6 div.sk-item {position: relative;z-index: 1;}#sk-container-id-6 div.sk-parallel {display: flex;align-items: stretch;justify-content: center;background-color: white;position: relative;}#sk-container-id-6 div.sk-item::before, #sk-container-id-6 div.sk-parallel-item::before {content: \"\";position: absolute;border-left: 1px solid gray;box-sizing: border-box;top: 0;bottom: 0;left: 50%;z-index: -1;}#sk-container-id-6 div.sk-parallel-item {display: flex;flex-direction: column;z-index: 1;position: relative;background-color: white;}#sk-container-id-6 div.sk-parallel-item:first-child::after {align-self: flex-end;width: 50%;}#sk-container-id-6 div.sk-parallel-item:last-child::after {align-self: flex-start;width: 50%;}#sk-container-id-6 div.sk-parallel-item:only-child::after {width: 0;}#sk-container-id-6 div.sk-dashed-wrapped {border: 1px dashed gray;margin: 0 0.4em 0.5em 0.4em;box-sizing: border-box;padding-bottom: 0.4em;background-color: white;}#sk-container-id-6 div.sk-label label {font-family: monospace;font-weight: bold;display: inline-block;line-height: 1.2em;}#sk-container-id-6 div.sk-label-container {text-align: center;}#sk-container-id-6 div.sk-container {/* jupyter's `normalize.less` sets `[hidden] { display: none; }` but bootstrap.min.css set `[hidden] { display: none !important; }` so we also need the `!important` here to be able to override the default hidden behavior on the sphinx rendered scikit-learn.org. See: https://github.com/scikit-learn/scikit-learn/issues/21755 */display: inline-block !important;position: relative;}#sk-container-id-6 div.sk-text-repr-fallback {display: none;}</style><div id=\"sk-container-id-6\" class=\"sk-top-container\"><div class=\"sk-text-repr-fallback\"><pre>LinearDiscriminantAnalysis()</pre><b>In a Jupyter environment, please rerun this cell to show the HTML representation or trust the notebook. <br />On GitHub, the HTML representation is unable to render, please try loading this page with nbviewer.org.</b></div><div class=\"sk-container\" hidden><div class=\"sk-item\"><div class=\"sk-estimator sk-toggleable\"><input class=\"sk-toggleable__control sk-hidden--visually\" id=\"sk-estimator-id-6\" type=\"checkbox\" checked><label for=\"sk-estimator-id-6\" class=\"sk-toggleable__label sk-toggleable__label-arrow\">LinearDiscriminantAnalysis</label><div class=\"sk-toggleable__content\"><pre>LinearDiscriminantAnalysis()</pre></div></div></div></div></div>"
      ],
      "text/plain": [
       "LinearDiscriminantAnalysis()"
      ]
     },
     "execution_count": 57,
     "metadata": {},
     "output_type": "execute_result"
    }
   ],
   "source": [
    "model2.fit(OVS_X_train, OVS_y_train) #fit model on oversample dataset"
   ]
  },
  {
   "cell_type": "code",
   "execution_count": 58,
   "id": "093753f6",
   "metadata": {},
   "outputs": [
    {
     "name": "stdout",
     "output_type": "stream",
     "text": [
      "Accuracy: 0.7083333333333334\n",
      "Precision: 0.7084354805086512\n",
      "Recall: 0.7083333333333334\n"
     ]
    }
   ],
   "source": [
    "UDS_y_Pred2 = model2.predict(UDS_X_test) #predict on test set\n",
    "\n",
    "UDS_accuracy2 = accuracy_score(UDS_y_test, UDS_y_Pred2) #calculate accuracy\n",
    "UDS_precision2 = precision_score(UDS_y_test, UDS_y_Pred2, average = 'weighted')#weighted average takes into account class distribution in the dataset\n",
    "UDS_recall2 = recall_score(UDS_y_test, UDS_y_Pred2, average = 'weighted')#weighted average takes into account class distribution in the dataset\n",
    "\n",
    "print(\"Accuracy:\", UDS_accuracy2)\n",
    "print(\"Precision:\", UDS_precision2)\n",
    "print(\"Recall:\", UDS_recall2)\n",
    "#accuracy = .71, precision = .71, recall = .71"
   ]
  },
  {
   "cell_type": "code",
   "execution_count": 59,
   "id": "262ef3b1",
   "metadata": {},
   "outputs": [],
   "source": [
    "# Based on the metrics for logistic regression(accuracy, precision, and recall) as well as the AUC, I would prefer the SMOTE model. SMOTE's AUC was .7, which was larger than \n",
    "# Oversampled's AUC of .66 and Undersampled's AUC of .67. SMOTE's accuracy = .65, precision = .66, and recall = .65.\n",
    "# LDA metrics also support SMOTE as the model of choise as its metrics are better than the others. Accuracy = .82, precision = .83, recall = .82\n",
    "# SMOTE's metrics were higher-performing than Oversampled (OVS), and Undersampled (UDS), respectively."
   ]
  }
 ],
 "metadata": {
  "kernelspec": {
   "display_name": "Python 3 (ipykernel)",
   "language": "python",
   "name": "python3"
  },
  "language_info": {
   "codemirror_mode": {
    "name": "ipython",
    "version": 3
   },
   "file_extension": ".py",
   "mimetype": "text/x-python",
   "name": "python",
   "nbconvert_exporter": "python",
   "pygments_lexer": "ipython3",
   "version": "3.9.12"
  }
 },
 "nbformat": 4,
 "nbformat_minor": 5
}
