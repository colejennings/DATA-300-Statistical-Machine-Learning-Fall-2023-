{
 "cells": [
  {
   "cell_type": "code",
   "execution_count": null,
   "id": "2f31fe2e",
   "metadata": {},
   "outputs": [],
   "source": [
    "#### 40/40. Good job Cole. "
   ]
  },
  {
   "cell_type": "code",
   "execution_count": 1,
   "id": "0d8cd750",
   "metadata": {},
   "outputs": [],
   "source": [
    "#conda v 22.9.0\n",
    "#Python v 3.9.12\n",
    "import numpy as np # v. 1.21.5\n",
    "import sklearn # v. 0.0\n",
    "import pandas as pd # v. 1.4.2\n",
    "\n",
    "import matplotlib.pyplot as plt # v. 3.5.1\n",
    "import statsmodels.api as sm # v. 0.13.2\n",
    "import pandas as pd #v. 1.4.2\n",
    "import pmdarima as pm #v. 2.0.3\n",
    "import sweetviz as sv #v. 2.2.1\n",
    "import warnings as ww \n",
    "import statsmodels.tsa.stattools as stattools # v. 0.13.2\n",
    "\n",
    "\n",
    "from statsmodels.tsa.stattools import adfuller # v. 0.13.2\n",
    "from statsmodels.graphics.tsaplots import plot_acf, plot_pacf # v. 0.13.2\n",
    "from statsmodels.tsa.arima_model import ARIMA # v. 0.13.2\n",
    "\n",
    "from sklearn import tree # v. 0.0\n",
    "from sklearn.tree import DecisionTreeClassifier, plot_tree #v. 0.0\n",
    "from sklearn.feature_selection import SelectKBest, f_regression #v. 0.0\n",
    "from sklearn.linear_model import LinearRegression #v. 0.0\n",
    "from sklearn.tree import DecisionTreeRegressor #v. 0.0\n",
    "from sklearn.linear_model import Lasso # v. 0.0\n",
    "from sklearn.model_selection import train_test_split # v. 0.0\n",
    "from sklearn.metrics import mean_absolute_error # v. 0.0\n",
    "from sklearn.metrics import mean_squared_error # v. 0.0\n",
    "from sklearn.metrics import r2_score # v. 0.0\n",
    "from sklearn.metrics import mean_absolute_percentage_error # v. 0.0\n",
    "from sklearn.linear_model import LogisticRegression # v. 0.0\n",
    "from sklearn.metrics import accuracy_score, precision_score, recall_score, classification_report # v. 0.0\n",
    "from sklearn.metrics import confusion_matrix # v. 0.0\n",
    "from sklearn.discriminant_analysis import LinearDiscriminantAnalysis # v. 0.0\n",
    "from sklearn.metrics import roc_auc_score, roc_curve # v. 0.0\n",
    "from sklearn.preprocessing import LabelBinarizer # v. 0.0\n",
    "from sklearn.utils import resample, shuffle # v. 0.0\n",
    "from imblearn.over_sampling import SMOTE # v. 0.11.0\n",
    "\n",
    "\n",
    "ww.filterwarnings(\"ignore\")\n",
    "%matplotlib inline"
   ]
  },
  {
   "cell_type": "code",
   "execution_count": 2,
   "id": "5b1ec57c",
   "metadata": {},
   "outputs": [],
   "source": [
    "df = pd.read_csv('/Users/colejennings/Downloads/sales_market_data.csv')"
   ]
  },
  {
   "cell_type": "code",
   "execution_count": 3,
   "id": "c24253be",
   "metadata": {},
   "outputs": [
    {
     "data": {
      "text/html": [
       "<div>\n",
       "<style scoped>\n",
       "    .dataframe tbody tr th:only-of-type {\n",
       "        vertical-align: middle;\n",
       "    }\n",
       "\n",
       "    .dataframe tbody tr th {\n",
       "        vertical-align: top;\n",
       "    }\n",
       "\n",
       "    .dataframe thead th {\n",
       "        text-align: right;\n",
       "    }\n",
       "</style>\n",
       "<table border=\"1\" class=\"dataframe\">\n",
       "  <thead>\n",
       "    <tr style=\"text-align: right;\">\n",
       "      <th></th>\n",
       "      <th>Sale</th>\n",
       "      <th>InStrSpending</th>\n",
       "      <th>Discount</th>\n",
       "      <th>TVSpending</th>\n",
       "      <th>StockRate</th>\n",
       "      <th>Price</th>\n",
       "      <th>Radio</th>\n",
       "      <th>OnlineAdsSpending</th>\n",
       "    </tr>\n",
       "  </thead>\n",
       "  <tbody>\n",
       "    <tr>\n",
       "      <th>0</th>\n",
       "      <td>240368</td>\n",
       "      <td>59.90</td>\n",
       "      <td>0.46</td>\n",
       "      <td>46.30</td>\n",
       "      <td>0.45</td>\n",
       "      <td>12.56</td>\n",
       "      <td>1065</td>\n",
       "      <td>1081.60</td>\n",
       "    </tr>\n",
       "    <tr>\n",
       "      <th>1</th>\n",
       "      <td>207276</td>\n",
       "      <td>7.28</td>\n",
       "      <td>0.39</td>\n",
       "      <td>166.91</td>\n",
       "      <td>0.05</td>\n",
       "      <td>5.44</td>\n",
       "      <td>1832</td>\n",
       "      <td>651.24</td>\n",
       "    </tr>\n",
       "    <tr>\n",
       "      <th>2</th>\n",
       "      <td>172572</td>\n",
       "      <td>9.81</td>\n",
       "      <td>0.41</td>\n",
       "      <td>73.67</td>\n",
       "      <td>0.06</td>\n",
       "      <td>3.54</td>\n",
       "      <td>587</td>\n",
       "      <td>1066.56</td>\n",
       "    </tr>\n",
       "    <tr>\n",
       "      <th>3</th>\n",
       "      <td>82697</td>\n",
       "      <td>46.94</td>\n",
       "      <td>0.27</td>\n",
       "      <td>33.95</td>\n",
       "      <td>0.88</td>\n",
       "      <td>28.90</td>\n",
       "      <td>1407</td>\n",
       "      <td>1855.27</td>\n",
       "    </tr>\n",
       "    <tr>\n",
       "      <th>4</th>\n",
       "      <td>141762</td>\n",
       "      <td>2.59</td>\n",
       "      <td>0.26</td>\n",
       "      <td>82.63</td>\n",
       "      <td>0.36</td>\n",
       "      <td>4.66</td>\n",
       "      <td>2057</td>\n",
       "      <td>1608.91</td>\n",
       "    </tr>\n",
       "  </tbody>\n",
       "</table>\n",
       "</div>"
      ],
      "text/plain": [
       "     Sale  InStrSpending  Discount  TVSpending  StockRate  Price  Radio  \\\n",
       "0  240368          59.90      0.46       46.30       0.45  12.56   1065   \n",
       "1  207276           7.28      0.39      166.91       0.05   5.44   1832   \n",
       "2  172572           9.81      0.41       73.67       0.06   3.54    587   \n",
       "3   82697          46.94      0.27       33.95       0.88  28.90   1407   \n",
       "4  141762           2.59      0.26       82.63       0.36   4.66   2057   \n",
       "\n",
       "   OnlineAdsSpending  \n",
       "0            1081.60  \n",
       "1             651.24  \n",
       "2            1066.56  \n",
       "3            1855.27  \n",
       "4            1608.91  "
      ]
     },
     "execution_count": 3,
     "metadata": {},
     "output_type": "execute_result"
    }
   ],
   "source": [
    "df.head()"
   ]
  },
  {
   "cell_type": "code",
   "execution_count": 4,
   "id": "8730483d",
   "metadata": {},
   "outputs": [
    {
     "data": {
      "text/plain": [
       "(Index(['Sale', 'InStrSpending', 'Discount', 'TVSpending', 'StockRate', 'Price',\n",
       "        'Radio', 'OnlineAdsSpending'],\n",
       "       dtype='object'),\n",
       " (992, 8),\n",
       " Sale                   int64\n",
       " InStrSpending        float64\n",
       " Discount             float64\n",
       " TVSpending           float64\n",
       " StockRate            float64\n",
       " Price                float64\n",
       " Radio                  int64\n",
       " OnlineAdsSpending    float64\n",
       " dtype: object)"
      ]
     },
     "execution_count": 4,
     "metadata": {},
     "output_type": "execute_result"
    }
   ],
   "source": [
    "df.columns, df.shape, df.dtypes #992 rows, 8 columns"
   ]
  },
  {
   "cell_type": "code",
   "execution_count": 5,
   "id": "ede443f5",
   "metadata": {},
   "outputs": [
    {
     "data": {
      "text/plain": [
       "Sale                 0\n",
       "InStrSpending        0\n",
       "Discount             0\n",
       "TVSpending           0\n",
       "StockRate            0\n",
       "Price                0\n",
       "Radio                0\n",
       "OnlineAdsSpending    0\n",
       "dtype: int64"
      ]
     },
     "execution_count": 5,
     "metadata": {},
     "output_type": "execute_result"
    }
   ],
   "source": [
    "df.isna().sum() #no null values"
   ]
  },
  {
   "cell_type": "code",
   "execution_count": 6,
   "id": "dd35240a",
   "metadata": {},
   "outputs": [
    {
     "data": {
      "application/vnd.jupyter.widget-view+json": {
       "model_id": "5cbd6d1d156e4a1b8edfc2b6f5a89e9d",
       "version_major": 2,
       "version_minor": 0
      },
      "text/plain": [
       "                                             |      | [  0%]   00:00 -> (? left)"
      ]
     },
     "metadata": {},
     "output_type": "display_data"
    },
    {
     "name": "stdout",
     "output_type": "stream",
     "text": [
      "Report SWEETVIZ_REPORT.html was generated! NOTEBOOK/COLAB USERS: the web browser MAY not pop up, regardless, the report IS saved in your notebook/colab files.\n"
     ]
    }
   ],
   "source": [
    "report = sv.analyze(df)\n",
    "report.show_html()\n",
    "#price and sale are relatively correlated (inversely)"
   ]
  },
  {
   "cell_type": "code",
   "execution_count": 7,
   "id": "0feee8e1",
   "metadata": {},
   "outputs": [],
   "source": [
    "#split df into x and y\n",
    "df_X = df.loc[:, df.columns != 'Sale'] #select all but y (Sale)\n",
    "df_y = df[['Sale']] #select Sale (y)"
   ]
  },
  {
   "cell_type": "code",
   "execution_count": 8,
   "id": "7e253357",
   "metadata": {},
   "outputs": [],
   "source": [
    "#create training and test sets\n",
    "X_train, X_test, y_train, y_test = train_test_split(df_X, df_y, test_size = 0.3, random_state = 4)"
   ]
  },
  {
   "cell_type": "code",
   "execution_count": 9,
   "id": "49bd1d98",
   "metadata": {},
   "outputs": [],
   "source": [
    "dt_regressor = DecisionTreeRegressor(random_state=4)\n",
    "#create decision tree model with default parameters"
   ]
  },
  {
   "cell_type": "code",
   "execution_count": 10,
   "id": "c65b69a7",
   "metadata": {},
   "outputs": [
    {
     "data": {
      "text/html": [
       "<style>#sk-container-id-1 {color: black;}#sk-container-id-1 pre{padding: 0;}#sk-container-id-1 div.sk-toggleable {background-color: white;}#sk-container-id-1 label.sk-toggleable__label {cursor: pointer;display: block;width: 100%;margin-bottom: 0;padding: 0.3em;box-sizing: border-box;text-align: center;}#sk-container-id-1 label.sk-toggleable__label-arrow:before {content: \"▸\";float: left;margin-right: 0.25em;color: #696969;}#sk-container-id-1 label.sk-toggleable__label-arrow:hover:before {color: black;}#sk-container-id-1 div.sk-estimator:hover label.sk-toggleable__label-arrow:before {color: black;}#sk-container-id-1 div.sk-toggleable__content {max-height: 0;max-width: 0;overflow: hidden;text-align: left;background-color: #f0f8ff;}#sk-container-id-1 div.sk-toggleable__content pre {margin: 0.2em;color: black;border-radius: 0.25em;background-color: #f0f8ff;}#sk-container-id-1 input.sk-toggleable__control:checked~div.sk-toggleable__content {max-height: 200px;max-width: 100%;overflow: auto;}#sk-container-id-1 input.sk-toggleable__control:checked~label.sk-toggleable__label-arrow:before {content: \"▾\";}#sk-container-id-1 div.sk-estimator input.sk-toggleable__control:checked~label.sk-toggleable__label {background-color: #d4ebff;}#sk-container-id-1 div.sk-label input.sk-toggleable__control:checked~label.sk-toggleable__label {background-color: #d4ebff;}#sk-container-id-1 input.sk-hidden--visually {border: 0;clip: rect(1px 1px 1px 1px);clip: rect(1px, 1px, 1px, 1px);height: 1px;margin: -1px;overflow: hidden;padding: 0;position: absolute;width: 1px;}#sk-container-id-1 div.sk-estimator {font-family: monospace;background-color: #f0f8ff;border: 1px dotted black;border-radius: 0.25em;box-sizing: border-box;margin-bottom: 0.5em;}#sk-container-id-1 div.sk-estimator:hover {background-color: #d4ebff;}#sk-container-id-1 div.sk-parallel-item::after {content: \"\";width: 100%;border-bottom: 1px solid gray;flex-grow: 1;}#sk-container-id-1 div.sk-label:hover label.sk-toggleable__label {background-color: #d4ebff;}#sk-container-id-1 div.sk-serial::before {content: \"\";position: absolute;border-left: 1px solid gray;box-sizing: border-box;top: 0;bottom: 0;left: 50%;z-index: 0;}#sk-container-id-1 div.sk-serial {display: flex;flex-direction: column;align-items: center;background-color: white;padding-right: 0.2em;padding-left: 0.2em;position: relative;}#sk-container-id-1 div.sk-item {position: relative;z-index: 1;}#sk-container-id-1 div.sk-parallel {display: flex;align-items: stretch;justify-content: center;background-color: white;position: relative;}#sk-container-id-1 div.sk-item::before, #sk-container-id-1 div.sk-parallel-item::before {content: \"\";position: absolute;border-left: 1px solid gray;box-sizing: border-box;top: 0;bottom: 0;left: 50%;z-index: -1;}#sk-container-id-1 div.sk-parallel-item {display: flex;flex-direction: column;z-index: 1;position: relative;background-color: white;}#sk-container-id-1 div.sk-parallel-item:first-child::after {align-self: flex-end;width: 50%;}#sk-container-id-1 div.sk-parallel-item:last-child::after {align-self: flex-start;width: 50%;}#sk-container-id-1 div.sk-parallel-item:only-child::after {width: 0;}#sk-container-id-1 div.sk-dashed-wrapped {border: 1px dashed gray;margin: 0 0.4em 0.5em 0.4em;box-sizing: border-box;padding-bottom: 0.4em;background-color: white;}#sk-container-id-1 div.sk-label label {font-family: monospace;font-weight: bold;display: inline-block;line-height: 1.2em;}#sk-container-id-1 div.sk-label-container {text-align: center;}#sk-container-id-1 div.sk-container {/* jupyter's `normalize.less` sets `[hidden] { display: none; }` but bootstrap.min.css set `[hidden] { display: none !important; }` so we also need the `!important` here to be able to override the default hidden behavior on the sphinx rendered scikit-learn.org. See: https://github.com/scikit-learn/scikit-learn/issues/21755 */display: inline-block !important;position: relative;}#sk-container-id-1 div.sk-text-repr-fallback {display: none;}</style><div id=\"sk-container-id-1\" class=\"sk-top-container\"><div class=\"sk-text-repr-fallback\"><pre>DecisionTreeRegressor(random_state=4)</pre><b>In a Jupyter environment, please rerun this cell to show the HTML representation or trust the notebook. <br />On GitHub, the HTML representation is unable to render, please try loading this page with nbviewer.org.</b></div><div class=\"sk-container\" hidden><div class=\"sk-item\"><div class=\"sk-estimator sk-toggleable\"><input class=\"sk-toggleable__control sk-hidden--visually\" id=\"sk-estimator-id-1\" type=\"checkbox\" checked><label for=\"sk-estimator-id-1\" class=\"sk-toggleable__label sk-toggleable__label-arrow\">DecisionTreeRegressor</label><div class=\"sk-toggleable__content\"><pre>DecisionTreeRegressor(random_state=4)</pre></div></div></div></div></div>"
      ],
      "text/plain": [
       "DecisionTreeRegressor(random_state=4)"
      ]
     },
     "execution_count": 10,
     "metadata": {},
     "output_type": "execute_result"
    }
   ],
   "source": [
    "#fit the model on the training data\n",
    "dt_regressor.fit(X_train, y_train)"
   ]
  },
  {
   "cell_type": "code",
   "execution_count": 11,
   "id": "e89a08e4",
   "metadata": {},
   "outputs": [],
   "source": [
    "y_pred_dt = dt_regressor.predict(X_test) #predict on test set"
   ]
  },
  {
   "cell_type": "code",
   "execution_count": 12,
   "id": "67ac22fb",
   "metadata": {},
   "outputs": [
    {
     "name": "stdout",
     "output_type": "stream",
     "text": [
      "Mean Squared Error: 524020220.3489933\n"
     ]
    }
   ],
   "source": [
    "#error metric\n",
    "mse_dt = mean_squared_error(y_test, y_pred_dt)\n",
    "print(f'Mean Squared Error: {mse_dt}')"
   ]
  },
  {
   "cell_type": "code",
   "execution_count": null,
   "id": "223e1617",
   "metadata": {},
   "outputs": [],
   "source": [
    "#### This is a very high R squared. "
   ]
  },
  {
   "cell_type": "code",
   "execution_count": 13,
   "id": "17a9e749",
   "metadata": {},
   "outputs": [
    {
     "name": "stdout",
     "output_type": "stream",
     "text": [
      "R-squared: 0.922343358563952\n"
     ]
    }
   ],
   "source": [
    "#goodness of fit\n",
    "r2_dt = r2_score(y_test, y_pred_dt)\n",
    "print(f'R-squared: {r2_dt}')"
   ]
  },
  {
   "cell_type": "code",
   "execution_count": 14,
   "id": "d9f89973",
   "metadata": {},
   "outputs": [],
   "source": [
    "#create Lasso regressor\n",
    "lasso_regressor = Lasso(alpha=1.0, random_state=40)"
   ]
  },
  {
   "cell_type": "code",
   "execution_count": 15,
   "id": "b5d13bef",
   "metadata": {},
   "outputs": [
    {
     "data": {
      "text/html": [
       "<style>#sk-container-id-2 {color: black;}#sk-container-id-2 pre{padding: 0;}#sk-container-id-2 div.sk-toggleable {background-color: white;}#sk-container-id-2 label.sk-toggleable__label {cursor: pointer;display: block;width: 100%;margin-bottom: 0;padding: 0.3em;box-sizing: border-box;text-align: center;}#sk-container-id-2 label.sk-toggleable__label-arrow:before {content: \"▸\";float: left;margin-right: 0.25em;color: #696969;}#sk-container-id-2 label.sk-toggleable__label-arrow:hover:before {color: black;}#sk-container-id-2 div.sk-estimator:hover label.sk-toggleable__label-arrow:before {color: black;}#sk-container-id-2 div.sk-toggleable__content {max-height: 0;max-width: 0;overflow: hidden;text-align: left;background-color: #f0f8ff;}#sk-container-id-2 div.sk-toggleable__content pre {margin: 0.2em;color: black;border-radius: 0.25em;background-color: #f0f8ff;}#sk-container-id-2 input.sk-toggleable__control:checked~div.sk-toggleable__content {max-height: 200px;max-width: 100%;overflow: auto;}#sk-container-id-2 input.sk-toggleable__control:checked~label.sk-toggleable__label-arrow:before {content: \"▾\";}#sk-container-id-2 div.sk-estimator input.sk-toggleable__control:checked~label.sk-toggleable__label {background-color: #d4ebff;}#sk-container-id-2 div.sk-label input.sk-toggleable__control:checked~label.sk-toggleable__label {background-color: #d4ebff;}#sk-container-id-2 input.sk-hidden--visually {border: 0;clip: rect(1px 1px 1px 1px);clip: rect(1px, 1px, 1px, 1px);height: 1px;margin: -1px;overflow: hidden;padding: 0;position: absolute;width: 1px;}#sk-container-id-2 div.sk-estimator {font-family: monospace;background-color: #f0f8ff;border: 1px dotted black;border-radius: 0.25em;box-sizing: border-box;margin-bottom: 0.5em;}#sk-container-id-2 div.sk-estimator:hover {background-color: #d4ebff;}#sk-container-id-2 div.sk-parallel-item::after {content: \"\";width: 100%;border-bottom: 1px solid gray;flex-grow: 1;}#sk-container-id-2 div.sk-label:hover label.sk-toggleable__label {background-color: #d4ebff;}#sk-container-id-2 div.sk-serial::before {content: \"\";position: absolute;border-left: 1px solid gray;box-sizing: border-box;top: 0;bottom: 0;left: 50%;z-index: 0;}#sk-container-id-2 div.sk-serial {display: flex;flex-direction: column;align-items: center;background-color: white;padding-right: 0.2em;padding-left: 0.2em;position: relative;}#sk-container-id-2 div.sk-item {position: relative;z-index: 1;}#sk-container-id-2 div.sk-parallel {display: flex;align-items: stretch;justify-content: center;background-color: white;position: relative;}#sk-container-id-2 div.sk-item::before, #sk-container-id-2 div.sk-parallel-item::before {content: \"\";position: absolute;border-left: 1px solid gray;box-sizing: border-box;top: 0;bottom: 0;left: 50%;z-index: -1;}#sk-container-id-2 div.sk-parallel-item {display: flex;flex-direction: column;z-index: 1;position: relative;background-color: white;}#sk-container-id-2 div.sk-parallel-item:first-child::after {align-self: flex-end;width: 50%;}#sk-container-id-2 div.sk-parallel-item:last-child::after {align-self: flex-start;width: 50%;}#sk-container-id-2 div.sk-parallel-item:only-child::after {width: 0;}#sk-container-id-2 div.sk-dashed-wrapped {border: 1px dashed gray;margin: 0 0.4em 0.5em 0.4em;box-sizing: border-box;padding-bottom: 0.4em;background-color: white;}#sk-container-id-2 div.sk-label label {font-family: monospace;font-weight: bold;display: inline-block;line-height: 1.2em;}#sk-container-id-2 div.sk-label-container {text-align: center;}#sk-container-id-2 div.sk-container {/* jupyter's `normalize.less` sets `[hidden] { display: none; }` but bootstrap.min.css set `[hidden] { display: none !important; }` so we also need the `!important` here to be able to override the default hidden behavior on the sphinx rendered scikit-learn.org. See: https://github.com/scikit-learn/scikit-learn/issues/21755 */display: inline-block !important;position: relative;}#sk-container-id-2 div.sk-text-repr-fallback {display: none;}</style><div id=\"sk-container-id-2\" class=\"sk-top-container\"><div class=\"sk-text-repr-fallback\"><pre>Lasso(random_state=40)</pre><b>In a Jupyter environment, please rerun this cell to show the HTML representation or trust the notebook. <br />On GitHub, the HTML representation is unable to render, please try loading this page with nbviewer.org.</b></div><div class=\"sk-container\" hidden><div class=\"sk-item\"><div class=\"sk-estimator sk-toggleable\"><input class=\"sk-toggleable__control sk-hidden--visually\" id=\"sk-estimator-id-2\" type=\"checkbox\" checked><label for=\"sk-estimator-id-2\" class=\"sk-toggleable__label sk-toggleable__label-arrow\">Lasso</label><div class=\"sk-toggleable__content\"><pre>Lasso(random_state=40)</pre></div></div></div></div></div>"
      ],
      "text/plain": [
       "Lasso(random_state=40)"
      ]
     },
     "execution_count": 15,
     "metadata": {},
     "output_type": "execute_result"
    }
   ],
   "source": [
    "#fit the model on the training data\n",
    "lasso_regressor.fit(X_train, y_train)"
   ]
  },
  {
   "cell_type": "code",
   "execution_count": 16,
   "id": "c1596bd3",
   "metadata": {},
   "outputs": [],
   "source": [
    "y_pred_lasso = lasso_regressor.predict(X_test) #predict on test set"
   ]
  },
  {
   "cell_type": "code",
   "execution_count": 17,
   "id": "0520bf79",
   "metadata": {},
   "outputs": [
    {
     "name": "stdout",
     "output_type": "stream",
     "text": [
      "Mean Squared Error: 9623006.236296996\n"
     ]
    }
   ],
   "source": [
    "#error metric\n",
    "mse_lasso = mean_squared_error(y_test, y_pred_lasso)\n",
    "print(f'Mean Squared Error: {mse_lasso}')"
   ]
  },
  {
   "cell_type": "code",
   "execution_count": 18,
   "id": "1fc833e0",
   "metadata": {},
   "outputs": [
    {
     "name": "stdout",
     "output_type": "stream",
     "text": [
      "R-squared: 0.9985739284176262\n"
     ]
    }
   ],
   "source": [
    "#goodness of fit\n",
    "r2_lasso = r2_score(y_test, y_pred_lasso)\n",
    "print(f'R-squared: {r2_lasso}')"
   ]
  },
  {
   "cell_type": "code",
   "execution_count": 19,
   "id": "1d21ed84",
   "metadata": {},
   "outputs": [],
   "source": [
    "#create SelectKBest with the desired number of features (arbitrarily chose 5) and scoring function\n",
    "k_best = SelectKBest(f_regression, k=5)  # Adjust k as needed"
   ]
  },
  {
   "cell_type": "code",
   "execution_count": 20,
   "id": "dc50ada3",
   "metadata": {},
   "outputs": [],
   "source": [
    "#fit SelectKBest to the training data\n",
    "X_train_kbest = k_best.fit_transform(X_train, y_train)"
   ]
  },
  {
   "cell_type": "code",
   "execution_count": 21,
   "id": "387fd5b5",
   "metadata": {},
   "outputs": [],
   "source": [
    "#get the indices of the selected features\n",
    "selected_features = k_best.get_support(indices=True)"
   ]
  },
  {
   "cell_type": "code",
   "execution_count": 22,
   "id": "0f8eea6a",
   "metadata": {},
   "outputs": [
    {
     "name": "stdout",
     "output_type": "stream",
     "text": [
      "Selected features: [0 2 3 4 5]\n"
     ]
    }
   ],
   "source": [
    "#print the selected features\n",
    "print(\"Selected features:\", selected_features)"
   ]
  },
  {
   "cell_type": "code",
   "execution_count": 23,
   "id": "8d06d7e0",
   "metadata": {},
   "outputs": [
    {
     "data": {
      "text/html": [
       "<style>#sk-container-id-3 {color: black;}#sk-container-id-3 pre{padding: 0;}#sk-container-id-3 div.sk-toggleable {background-color: white;}#sk-container-id-3 label.sk-toggleable__label {cursor: pointer;display: block;width: 100%;margin-bottom: 0;padding: 0.3em;box-sizing: border-box;text-align: center;}#sk-container-id-3 label.sk-toggleable__label-arrow:before {content: \"▸\";float: left;margin-right: 0.25em;color: #696969;}#sk-container-id-3 label.sk-toggleable__label-arrow:hover:before {color: black;}#sk-container-id-3 div.sk-estimator:hover label.sk-toggleable__label-arrow:before {color: black;}#sk-container-id-3 div.sk-toggleable__content {max-height: 0;max-width: 0;overflow: hidden;text-align: left;background-color: #f0f8ff;}#sk-container-id-3 div.sk-toggleable__content pre {margin: 0.2em;color: black;border-radius: 0.25em;background-color: #f0f8ff;}#sk-container-id-3 input.sk-toggleable__control:checked~div.sk-toggleable__content {max-height: 200px;max-width: 100%;overflow: auto;}#sk-container-id-3 input.sk-toggleable__control:checked~label.sk-toggleable__label-arrow:before {content: \"▾\";}#sk-container-id-3 div.sk-estimator input.sk-toggleable__control:checked~label.sk-toggleable__label {background-color: #d4ebff;}#sk-container-id-3 div.sk-label input.sk-toggleable__control:checked~label.sk-toggleable__label {background-color: #d4ebff;}#sk-container-id-3 input.sk-hidden--visually {border: 0;clip: rect(1px 1px 1px 1px);clip: rect(1px, 1px, 1px, 1px);height: 1px;margin: -1px;overflow: hidden;padding: 0;position: absolute;width: 1px;}#sk-container-id-3 div.sk-estimator {font-family: monospace;background-color: #f0f8ff;border: 1px dotted black;border-radius: 0.25em;box-sizing: border-box;margin-bottom: 0.5em;}#sk-container-id-3 div.sk-estimator:hover {background-color: #d4ebff;}#sk-container-id-3 div.sk-parallel-item::after {content: \"\";width: 100%;border-bottom: 1px solid gray;flex-grow: 1;}#sk-container-id-3 div.sk-label:hover label.sk-toggleable__label {background-color: #d4ebff;}#sk-container-id-3 div.sk-serial::before {content: \"\";position: absolute;border-left: 1px solid gray;box-sizing: border-box;top: 0;bottom: 0;left: 50%;z-index: 0;}#sk-container-id-3 div.sk-serial {display: flex;flex-direction: column;align-items: center;background-color: white;padding-right: 0.2em;padding-left: 0.2em;position: relative;}#sk-container-id-3 div.sk-item {position: relative;z-index: 1;}#sk-container-id-3 div.sk-parallel {display: flex;align-items: stretch;justify-content: center;background-color: white;position: relative;}#sk-container-id-3 div.sk-item::before, #sk-container-id-3 div.sk-parallel-item::before {content: \"\";position: absolute;border-left: 1px solid gray;box-sizing: border-box;top: 0;bottom: 0;left: 50%;z-index: -1;}#sk-container-id-3 div.sk-parallel-item {display: flex;flex-direction: column;z-index: 1;position: relative;background-color: white;}#sk-container-id-3 div.sk-parallel-item:first-child::after {align-self: flex-end;width: 50%;}#sk-container-id-3 div.sk-parallel-item:last-child::after {align-self: flex-start;width: 50%;}#sk-container-id-3 div.sk-parallel-item:only-child::after {width: 0;}#sk-container-id-3 div.sk-dashed-wrapped {border: 1px dashed gray;margin: 0 0.4em 0.5em 0.4em;box-sizing: border-box;padding-bottom: 0.4em;background-color: white;}#sk-container-id-3 div.sk-label label {font-family: monospace;font-weight: bold;display: inline-block;line-height: 1.2em;}#sk-container-id-3 div.sk-label-container {text-align: center;}#sk-container-id-3 div.sk-container {/* jupyter's `normalize.less` sets `[hidden] { display: none; }` but bootstrap.min.css set `[hidden] { display: none !important; }` so we also need the `!important` here to be able to override the default hidden behavior on the sphinx rendered scikit-learn.org. See: https://github.com/scikit-learn/scikit-learn/issues/21755 */display: inline-block !important;position: relative;}#sk-container-id-3 div.sk-text-repr-fallback {display: none;}</style><div id=\"sk-container-id-3\" class=\"sk-top-container\"><div class=\"sk-text-repr-fallback\"><pre>LinearRegression()</pre><b>In a Jupyter environment, please rerun this cell to show the HTML representation or trust the notebook. <br />On GitHub, the HTML representation is unable to render, please try loading this page with nbviewer.org.</b></div><div class=\"sk-container\" hidden><div class=\"sk-item\"><div class=\"sk-estimator sk-toggleable\"><input class=\"sk-toggleable__control sk-hidden--visually\" id=\"sk-estimator-id-3\" type=\"checkbox\" checked><label for=\"sk-estimator-id-3\" class=\"sk-toggleable__label sk-toggleable__label-arrow\">LinearRegression</label><div class=\"sk-toggleable__content\"><pre>LinearRegression()</pre></div></div></div></div></div>"
      ],
      "text/plain": [
       "LinearRegression()"
      ]
     },
     "execution_count": 23,
     "metadata": {},
     "output_type": "execute_result"
    }
   ],
   "source": [
    "#fit a linear regression model using the selected features\n",
    "model = LinearRegression()\n",
    "model.fit(X_train.iloc[:, selected_features], y_train)"
   ]
  },
  {
   "cell_type": "code",
   "execution_count": 24,
   "id": "c48a3cef",
   "metadata": {},
   "outputs": [],
   "source": [
    "#make predictions on the test set\n",
    "X_test_kbest = k_best.transform(X_test)\n",
    "y_pred_kbest = model.predict(X_test.iloc[:, selected_features])"
   ]
  },
  {
   "cell_type": "code",
   "execution_count": 25,
   "id": "fb465a79",
   "metadata": {},
   "outputs": [
    {
     "name": "stdout",
     "output_type": "stream",
     "text": [
      "Mean Squared Error: 10143196.35538078\n"
     ]
    }
   ],
   "source": [
    "#error metric\n",
    "mse_kbest = mean_squared_error(y_test, y_pred_kbest)\n",
    "print(f\"Mean Squared Error: {mse_kbest}\")"
   ]
  },
  {
   "cell_type": "code",
   "execution_count": 26,
   "id": "4f399f6f",
   "metadata": {},
   "outputs": [
    {
     "name": "stdout",
     "output_type": "stream",
     "text": [
      "R-squared: 0.9984968393741359\n"
     ]
    }
   ],
   "source": [
    "#goodness of fit\n",
    "r2_kbest = r2_score(y_test, y_pred_kbest)\n",
    "print(f'R-squared: {r2_kbest}')"
   ]
  },
  {
   "cell_type": "code",
   "execution_count": 27,
   "id": "40c7dc9d",
   "metadata": {},
   "outputs": [],
   "source": [
    "#I prefer the LASSO regressor because it has the best fit among the methods according to r-squared (0.9985739284176262) and the\n",
    "# smallest error as its MSE = 9623006.236296996 which is smaller than both the other methods' MSEs."
   ]
  },
  {
   "cell_type": "code",
   "execution_count": 28,
   "id": "51307b13",
   "metadata": {},
   "outputs": [],
   "source": [
    "dt2_regressor = DecisionTreeRegressor(criterion='absolute_error', splitter='random', random_state=4)\n",
    "#create decision tree model with set parameters"
   ]
  },
  {
   "cell_type": "code",
   "execution_count": 29,
   "id": "616cd08a",
   "metadata": {},
   "outputs": [
    {
     "data": {
      "text/html": [
       "<style>#sk-container-id-4 {color: black;}#sk-container-id-4 pre{padding: 0;}#sk-container-id-4 div.sk-toggleable {background-color: white;}#sk-container-id-4 label.sk-toggleable__label {cursor: pointer;display: block;width: 100%;margin-bottom: 0;padding: 0.3em;box-sizing: border-box;text-align: center;}#sk-container-id-4 label.sk-toggleable__label-arrow:before {content: \"▸\";float: left;margin-right: 0.25em;color: #696969;}#sk-container-id-4 label.sk-toggleable__label-arrow:hover:before {color: black;}#sk-container-id-4 div.sk-estimator:hover label.sk-toggleable__label-arrow:before {color: black;}#sk-container-id-4 div.sk-toggleable__content {max-height: 0;max-width: 0;overflow: hidden;text-align: left;background-color: #f0f8ff;}#sk-container-id-4 div.sk-toggleable__content pre {margin: 0.2em;color: black;border-radius: 0.25em;background-color: #f0f8ff;}#sk-container-id-4 input.sk-toggleable__control:checked~div.sk-toggleable__content {max-height: 200px;max-width: 100%;overflow: auto;}#sk-container-id-4 input.sk-toggleable__control:checked~label.sk-toggleable__label-arrow:before {content: \"▾\";}#sk-container-id-4 div.sk-estimator input.sk-toggleable__control:checked~label.sk-toggleable__label {background-color: #d4ebff;}#sk-container-id-4 div.sk-label input.sk-toggleable__control:checked~label.sk-toggleable__label {background-color: #d4ebff;}#sk-container-id-4 input.sk-hidden--visually {border: 0;clip: rect(1px 1px 1px 1px);clip: rect(1px, 1px, 1px, 1px);height: 1px;margin: -1px;overflow: hidden;padding: 0;position: absolute;width: 1px;}#sk-container-id-4 div.sk-estimator {font-family: monospace;background-color: #f0f8ff;border: 1px dotted black;border-radius: 0.25em;box-sizing: border-box;margin-bottom: 0.5em;}#sk-container-id-4 div.sk-estimator:hover {background-color: #d4ebff;}#sk-container-id-4 div.sk-parallel-item::after {content: \"\";width: 100%;border-bottom: 1px solid gray;flex-grow: 1;}#sk-container-id-4 div.sk-label:hover label.sk-toggleable__label {background-color: #d4ebff;}#sk-container-id-4 div.sk-serial::before {content: \"\";position: absolute;border-left: 1px solid gray;box-sizing: border-box;top: 0;bottom: 0;left: 50%;z-index: 0;}#sk-container-id-4 div.sk-serial {display: flex;flex-direction: column;align-items: center;background-color: white;padding-right: 0.2em;padding-left: 0.2em;position: relative;}#sk-container-id-4 div.sk-item {position: relative;z-index: 1;}#sk-container-id-4 div.sk-parallel {display: flex;align-items: stretch;justify-content: center;background-color: white;position: relative;}#sk-container-id-4 div.sk-item::before, #sk-container-id-4 div.sk-parallel-item::before {content: \"\";position: absolute;border-left: 1px solid gray;box-sizing: border-box;top: 0;bottom: 0;left: 50%;z-index: -1;}#sk-container-id-4 div.sk-parallel-item {display: flex;flex-direction: column;z-index: 1;position: relative;background-color: white;}#sk-container-id-4 div.sk-parallel-item:first-child::after {align-self: flex-end;width: 50%;}#sk-container-id-4 div.sk-parallel-item:last-child::after {align-self: flex-start;width: 50%;}#sk-container-id-4 div.sk-parallel-item:only-child::after {width: 0;}#sk-container-id-4 div.sk-dashed-wrapped {border: 1px dashed gray;margin: 0 0.4em 0.5em 0.4em;box-sizing: border-box;padding-bottom: 0.4em;background-color: white;}#sk-container-id-4 div.sk-label label {font-family: monospace;font-weight: bold;display: inline-block;line-height: 1.2em;}#sk-container-id-4 div.sk-label-container {text-align: center;}#sk-container-id-4 div.sk-container {/* jupyter's `normalize.less` sets `[hidden] { display: none; }` but bootstrap.min.css set `[hidden] { display: none !important; }` so we also need the `!important` here to be able to override the default hidden behavior on the sphinx rendered scikit-learn.org. See: https://github.com/scikit-learn/scikit-learn/issues/21755 */display: inline-block !important;position: relative;}#sk-container-id-4 div.sk-text-repr-fallback {display: none;}</style><div id=\"sk-container-id-4\" class=\"sk-top-container\"><div class=\"sk-text-repr-fallback\"><pre>DecisionTreeRegressor(criterion=&#x27;absolute_error&#x27;, random_state=4,\n",
       "                      splitter=&#x27;random&#x27;)</pre><b>In a Jupyter environment, please rerun this cell to show the HTML representation or trust the notebook. <br />On GitHub, the HTML representation is unable to render, please try loading this page with nbviewer.org.</b></div><div class=\"sk-container\" hidden><div class=\"sk-item\"><div class=\"sk-estimator sk-toggleable\"><input class=\"sk-toggleable__control sk-hidden--visually\" id=\"sk-estimator-id-4\" type=\"checkbox\" checked><label for=\"sk-estimator-id-4\" class=\"sk-toggleable__label sk-toggleable__label-arrow\">DecisionTreeRegressor</label><div class=\"sk-toggleable__content\"><pre>DecisionTreeRegressor(criterion=&#x27;absolute_error&#x27;, random_state=4,\n",
       "                      splitter=&#x27;random&#x27;)</pre></div></div></div></div></div>"
      ],
      "text/plain": [
       "DecisionTreeRegressor(criterion='absolute_error', random_state=4,\n",
       "                      splitter='random')"
      ]
     },
     "execution_count": 29,
     "metadata": {},
     "output_type": "execute_result"
    }
   ],
   "source": [
    "#fit the model on the training data\n",
    "dt2_regressor.fit(X_train, y_train)"
   ]
  },
  {
   "cell_type": "code",
   "execution_count": 30,
   "id": "d11880c8",
   "metadata": {},
   "outputs": [],
   "source": [
    "y_pred_dt2 = dt2_regressor.predict(X_test) #predict on test set"
   ]
  },
  {
   "cell_type": "code",
   "execution_count": 31,
   "id": "770f1d65",
   "metadata": {},
   "outputs": [
    {
     "name": "stdout",
     "output_type": "stream",
     "text": [
      "Mean Squared Error: 670857248.7852349\n"
     ]
    }
   ],
   "source": [
    "#error metric\n",
    "mse_dt2 = mean_squared_error(y_test, y_pred_dt2)\n",
    "print(f'Mean Squared Error: {mse_dt2}')"
   ]
  },
  {
   "cell_type": "code",
   "execution_count": 32,
   "id": "8f630806",
   "metadata": {},
   "outputs": [
    {
     "name": "stdout",
     "output_type": "stream",
     "text": [
      "R-squared: 0.9005829950817684\n"
     ]
    }
   ],
   "source": [
    "#goodness of fit\n",
    "r2_dt2 = r2_score(y_test, y_pred_dt2)\n",
    "print(f'R-squared: {r2_dt2}')"
   ]
  },
  {
   "cell_type": "code",
   "execution_count": 33,
   "id": "bf420ee7",
   "metadata": {},
   "outputs": [],
   "source": [
    "#I prefer the first decision tree regressor with the default parameters because it had a higher R-squared and lower MSE.\n",
    "#However the LASSO regressor is still my favored model out of all of them as it has the highest R-squared and lowest MSE."
   ]
  },
  {
   "cell_type": "code",
   "execution_count": 34,
   "id": "593c4611",
   "metadata": {},
   "outputs": [],
   "source": [
    "#When running the Kbest model to see the 5 most determinant features the model returned these indicies: Selected features: [0 2 3 4 5]\n",
    "# This means the following 5 are the most determinant of y: InStrSpending, TVSpending, StockRate, Price, and Radio    "
   ]
  },
  {
   "cell_type": "code",
   "execution_count": 35,
   "id": "21422ebc",
   "metadata": {},
   "outputs": [],
   "source": [
    "#Classification:"
   ]
  },
  {
   "cell_type": "code",
   "execution_count": 36,
   "id": "727c712b",
   "metadata": {},
   "outputs": [],
   "source": [
    "df2 = pd.read_csv('/Users/colejennings/Downloads/nba.csv')"
   ]
  },
  {
   "cell_type": "code",
   "execution_count": 37,
   "id": "54b2f3f9",
   "metadata": {},
   "outputs": [
    {
     "data": {
      "text/html": [
       "<div>\n",
       "<style scoped>\n",
       "    .dataframe tbody tr th:only-of-type {\n",
       "        vertical-align: middle;\n",
       "    }\n",
       "\n",
       "    .dataframe tbody tr th {\n",
       "        vertical-align: top;\n",
       "    }\n",
       "\n",
       "    .dataframe thead th {\n",
       "        text-align: right;\n",
       "    }\n",
       "</style>\n",
       "<table border=\"1\" class=\"dataframe\">\n",
       "  <thead>\n",
       "    <tr style=\"text-align: right;\">\n",
       "      <th></th>\n",
       "      <th>Name</th>\n",
       "      <th>GP</th>\n",
       "      <th>MIN</th>\n",
       "      <th>PTS</th>\n",
       "      <th>FGM</th>\n",
       "      <th>FGA</th>\n",
       "      <th>FG%</th>\n",
       "      <th>3P Made</th>\n",
       "      <th>3PA</th>\n",
       "      <th>3P%</th>\n",
       "      <th>...</th>\n",
       "      <th>FTA</th>\n",
       "      <th>FT%</th>\n",
       "      <th>OREB</th>\n",
       "      <th>DREB</th>\n",
       "      <th>REB</th>\n",
       "      <th>AST</th>\n",
       "      <th>STL</th>\n",
       "      <th>BLK</th>\n",
       "      <th>TOV</th>\n",
       "      <th>TARGET_5Yrs</th>\n",
       "    </tr>\n",
       "  </thead>\n",
       "  <tbody>\n",
       "    <tr>\n",
       "      <th>0</th>\n",
       "      <td>Brandon Ingram</td>\n",
       "      <td>36</td>\n",
       "      <td>27.4</td>\n",
       "      <td>7.4</td>\n",
       "      <td>2.6</td>\n",
       "      <td>7.6</td>\n",
       "      <td>34.7</td>\n",
       "      <td>0.5</td>\n",
       "      <td>2.1</td>\n",
       "      <td>25.0</td>\n",
       "      <td>...</td>\n",
       "      <td>2.3</td>\n",
       "      <td>69.9</td>\n",
       "      <td>0.7</td>\n",
       "      <td>3.4</td>\n",
       "      <td>4.1</td>\n",
       "      <td>1.9</td>\n",
       "      <td>0.4</td>\n",
       "      <td>0.4</td>\n",
       "      <td>1.3</td>\n",
       "      <td>0.0</td>\n",
       "    </tr>\n",
       "    <tr>\n",
       "      <th>1</th>\n",
       "      <td>Andrew Harrison</td>\n",
       "      <td>35</td>\n",
       "      <td>26.9</td>\n",
       "      <td>7.2</td>\n",
       "      <td>2.0</td>\n",
       "      <td>6.7</td>\n",
       "      <td>29.6</td>\n",
       "      <td>0.7</td>\n",
       "      <td>2.8</td>\n",
       "      <td>23.5</td>\n",
       "      <td>...</td>\n",
       "      <td>3.4</td>\n",
       "      <td>76.5</td>\n",
       "      <td>0.5</td>\n",
       "      <td>2.0</td>\n",
       "      <td>2.4</td>\n",
       "      <td>3.7</td>\n",
       "      <td>1.1</td>\n",
       "      <td>0.5</td>\n",
       "      <td>1.6</td>\n",
       "      <td>0.0</td>\n",
       "    </tr>\n",
       "    <tr>\n",
       "      <th>2</th>\n",
       "      <td>JaKarr Sampson</td>\n",
       "      <td>74</td>\n",
       "      <td>15.3</td>\n",
       "      <td>5.2</td>\n",
       "      <td>2.0</td>\n",
       "      <td>4.7</td>\n",
       "      <td>42.2</td>\n",
       "      <td>0.4</td>\n",
       "      <td>1.7</td>\n",
       "      <td>24.4</td>\n",
       "      <td>...</td>\n",
       "      <td>1.3</td>\n",
       "      <td>67.0</td>\n",
       "      <td>0.5</td>\n",
       "      <td>1.7</td>\n",
       "      <td>2.2</td>\n",
       "      <td>1.0</td>\n",
       "      <td>0.5</td>\n",
       "      <td>0.3</td>\n",
       "      <td>1.0</td>\n",
       "      <td>0.0</td>\n",
       "    </tr>\n",
       "    <tr>\n",
       "      <th>3</th>\n",
       "      <td>Malik Sealy</td>\n",
       "      <td>58</td>\n",
       "      <td>11.6</td>\n",
       "      <td>5.7</td>\n",
       "      <td>2.3</td>\n",
       "      <td>5.5</td>\n",
       "      <td>42.6</td>\n",
       "      <td>0.1</td>\n",
       "      <td>0.5</td>\n",
       "      <td>22.6</td>\n",
       "      <td>...</td>\n",
       "      <td>1.3</td>\n",
       "      <td>68.9</td>\n",
       "      <td>1.0</td>\n",
       "      <td>0.9</td>\n",
       "      <td>1.9</td>\n",
       "      <td>0.8</td>\n",
       "      <td>0.6</td>\n",
       "      <td>0.1</td>\n",
       "      <td>1.0</td>\n",
       "      <td>1.0</td>\n",
       "    </tr>\n",
       "    <tr>\n",
       "      <th>4</th>\n",
       "      <td>Matt Geiger</td>\n",
       "      <td>48</td>\n",
       "      <td>11.5</td>\n",
       "      <td>4.5</td>\n",
       "      <td>1.6</td>\n",
       "      <td>3.0</td>\n",
       "      <td>52.4</td>\n",
       "      <td>0.0</td>\n",
       "      <td>0.1</td>\n",
       "      <td>0.0</td>\n",
       "      <td>...</td>\n",
       "      <td>1.9</td>\n",
       "      <td>67.4</td>\n",
       "      <td>1.0</td>\n",
       "      <td>1.5</td>\n",
       "      <td>2.5</td>\n",
       "      <td>0.3</td>\n",
       "      <td>0.3</td>\n",
       "      <td>0.4</td>\n",
       "      <td>0.8</td>\n",
       "      <td>1.0</td>\n",
       "    </tr>\n",
       "  </tbody>\n",
       "</table>\n",
       "<p>5 rows × 21 columns</p>\n",
       "</div>"
      ],
      "text/plain": [
       "              Name  GP   MIN  PTS  FGM  FGA   FG%  3P Made  3PA   3P%  ...  \\\n",
       "0   Brandon Ingram  36  27.4  7.4  2.6  7.6  34.7      0.5  2.1  25.0  ...   \n",
       "1  Andrew Harrison  35  26.9  7.2  2.0  6.7  29.6      0.7  2.8  23.5  ...   \n",
       "2   JaKarr Sampson  74  15.3  5.2  2.0  4.7  42.2      0.4  1.7  24.4  ...   \n",
       "3      Malik Sealy  58  11.6  5.7  2.3  5.5  42.6      0.1  0.5  22.6  ...   \n",
       "4      Matt Geiger  48  11.5  4.5  1.6  3.0  52.4      0.0  0.1   0.0  ...   \n",
       "\n",
       "   FTA   FT%  OREB  DREB  REB  AST  STL  BLK  TOV  TARGET_5Yrs  \n",
       "0  2.3  69.9   0.7   3.4  4.1  1.9  0.4  0.4  1.3          0.0  \n",
       "1  3.4  76.5   0.5   2.0  2.4  3.7  1.1  0.5  1.6          0.0  \n",
       "2  1.3  67.0   0.5   1.7  2.2  1.0  0.5  0.3  1.0          0.0  \n",
       "3  1.3  68.9   1.0   0.9  1.9  0.8  0.6  0.1  1.0          1.0  \n",
       "4  1.9  67.4   1.0   1.5  2.5  0.3  0.3  0.4  0.8          1.0  \n",
       "\n",
       "[5 rows x 21 columns]"
      ]
     },
     "execution_count": 37,
     "metadata": {},
     "output_type": "execute_result"
    }
   ],
   "source": [
    "df2.head()"
   ]
  },
  {
   "cell_type": "code",
   "execution_count": 38,
   "id": "d73638a6",
   "metadata": {},
   "outputs": [
    {
     "data": {
      "text/plain": [
       "(Index(['Name', 'GP', 'MIN', 'PTS', 'FGM', 'FGA', 'FG%', '3P Made', '3PA',\n",
       "        '3P%', 'FTM', 'FTA', 'FT%', 'OREB', 'DREB', 'REB', 'AST', 'STL', 'BLK',\n",
       "        'TOV', 'TARGET_5Yrs'],\n",
       "       dtype='object'),\n",
       " (1340, 21),\n",
       " Name            object\n",
       " GP               int64\n",
       " MIN            float64\n",
       " PTS            float64\n",
       " FGM            float64\n",
       " FGA            float64\n",
       " FG%            float64\n",
       " 3P Made        float64\n",
       " 3PA            float64\n",
       " 3P%            float64\n",
       " FTM            float64\n",
       " FTA            float64\n",
       " FT%            float64\n",
       " OREB           float64\n",
       " DREB           float64\n",
       " REB            float64\n",
       " AST            float64\n",
       " STL            float64\n",
       " BLK            float64\n",
       " TOV            float64\n",
       " TARGET_5Yrs    float64\n",
       " dtype: object)"
      ]
     },
     "execution_count": 38,
     "metadata": {},
     "output_type": "execute_result"
    }
   ],
   "source": [
    "df2.columns, df2.shape, df2.dtypes #1340 rows, 21 columns"
   ]
  },
  {
   "cell_type": "code",
   "execution_count": 39,
   "id": "b001c29a",
   "metadata": {},
   "outputs": [
    {
     "data": {
      "text/plain": [
       "Name            0\n",
       "GP              0\n",
       "MIN             0\n",
       "PTS             0\n",
       "FGM             0\n",
       "FGA             0\n",
       "FG%             0\n",
       "3P Made         0\n",
       "3PA             0\n",
       "3P%            11\n",
       "FTM             0\n",
       "FTA             0\n",
       "FT%             0\n",
       "OREB            0\n",
       "DREB            0\n",
       "REB             0\n",
       "AST             0\n",
       "STL             0\n",
       "BLK             0\n",
       "TOV             0\n",
       "TARGET_5Yrs     0\n",
       "dtype: int64"
      ]
     },
     "execution_count": 39,
     "metadata": {},
     "output_type": "execute_result"
    }
   ],
   "source": [
    "df2.isna().sum() #11 nulls for 3P%"
   ]
  },
  {
   "cell_type": "code",
   "execution_count": 40,
   "id": "2a177c9c",
   "metadata": {},
   "outputs": [],
   "source": [
    "# Drop rows where '3P%' has null values\n",
    "df2 = df2.dropna(subset=['3P%'])"
   ]
  },
  {
   "cell_type": "code",
   "execution_count": 41,
   "id": "7b181d24",
   "metadata": {},
   "outputs": [
    {
     "data": {
      "text/plain": [
       "Name           0\n",
       "GP             0\n",
       "MIN            0\n",
       "PTS            0\n",
       "FGM            0\n",
       "FGA            0\n",
       "FG%            0\n",
       "3P Made        0\n",
       "3PA            0\n",
       "3P%            0\n",
       "FTM            0\n",
       "FTA            0\n",
       "FT%            0\n",
       "OREB           0\n",
       "DREB           0\n",
       "REB            0\n",
       "AST            0\n",
       "STL            0\n",
       "BLK            0\n",
       "TOV            0\n",
       "TARGET_5Yrs    0\n",
       "dtype: int64"
      ]
     },
     "execution_count": 41,
     "metadata": {},
     "output_type": "execute_result"
    }
   ],
   "source": [
    "df2.isna().sum() #no nulls now"
   ]
  },
  {
   "cell_type": "code",
   "execution_count": 42,
   "id": "d039dfc6",
   "metadata": {},
   "outputs": [
    {
     "data": {
      "text/plain": [
       "(Index(['Name', 'GP', 'MIN', 'PTS', 'FGM', 'FGA', 'FG%', '3P Made', '3PA',\n",
       "        '3P%', 'FTM', 'FTA', 'FT%', 'OREB', 'DREB', 'REB', 'AST', 'STL', 'BLK',\n",
       "        'TOV', 'TARGET_5Yrs'],\n",
       "       dtype='object'),\n",
       " (1329, 21),\n",
       " Name            object\n",
       " GP               int64\n",
       " MIN            float64\n",
       " PTS            float64\n",
       " FGM            float64\n",
       " FGA            float64\n",
       " FG%            float64\n",
       " 3P Made        float64\n",
       " 3PA            float64\n",
       " 3P%            float64\n",
       " FTM            float64\n",
       " FTA            float64\n",
       " FT%            float64\n",
       " OREB           float64\n",
       " DREB           float64\n",
       " REB            float64\n",
       " AST            float64\n",
       " STL            float64\n",
       " BLK            float64\n",
       " TOV            float64\n",
       " TARGET_5Yrs    float64\n",
       " dtype: object)"
      ]
     },
     "execution_count": 42,
     "metadata": {},
     "output_type": "execute_result"
    }
   ],
   "source": [
    "df2.columns, df2.shape, df2.dtypes #1329 rows, 21 columns, dropped 11 rows with nulls"
   ]
  },
  {
   "cell_type": "code",
   "execution_count": 43,
   "id": "2c594ae6",
   "metadata": {},
   "outputs": [],
   "source": [
    "#split df2 into x and y\n",
    "df2_X = df2.loc[:, ~df2.columns.isin(['TARGET_5Yrs', 'Name'])] #select all but y (TARGET_5Yrs) and Name (categorical)\n",
    "df2_y = df2[['TARGET_5Yrs']] #select TARGET_5Yrs (y)"
   ]
  },
  {
   "cell_type": "code",
   "execution_count": 44,
   "id": "a2c57b76",
   "metadata": {},
   "outputs": [
    {
     "data": {
      "text/plain": [
       "1.0    0.62152\n",
       "0.0    0.37848\n",
       "Name: TARGET_5Yrs, dtype: float64"
      ]
     },
     "execution_count": 44,
     "metadata": {},
     "output_type": "execute_result"
    }
   ],
   "source": [
    "df2['TARGET_5Yrs'].value_counts(normalize = True) #check class distribution\n",
    "#They are relatively balanced, 62% - class 1, 38% - class 2"
   ]
  },
  {
   "cell_type": "code",
   "execution_count": 45,
   "id": "7808c011",
   "metadata": {},
   "outputs": [],
   "source": [
    "#create training and test sets\n",
    "X_train2, X_test2, y_train2, y_test2 = train_test_split(df2_X, df2_y, test_size = 0.3, random_state = 4)"
   ]
  },
  {
   "cell_type": "code",
   "execution_count": 46,
   "id": "62d98174",
   "metadata": {},
   "outputs": [],
   "source": [
    "#create a Decision Tree Classifier\n",
    "DTC = DecisionTreeClassifier(random_state=40)"
   ]
  },
  {
   "cell_type": "code",
   "execution_count": 47,
   "id": "0ac61f3f",
   "metadata": {},
   "outputs": [
    {
     "data": {
      "text/html": [
       "<style>#sk-container-id-5 {color: black;}#sk-container-id-5 pre{padding: 0;}#sk-container-id-5 div.sk-toggleable {background-color: white;}#sk-container-id-5 label.sk-toggleable__label {cursor: pointer;display: block;width: 100%;margin-bottom: 0;padding: 0.3em;box-sizing: border-box;text-align: center;}#sk-container-id-5 label.sk-toggleable__label-arrow:before {content: \"▸\";float: left;margin-right: 0.25em;color: #696969;}#sk-container-id-5 label.sk-toggleable__label-arrow:hover:before {color: black;}#sk-container-id-5 div.sk-estimator:hover label.sk-toggleable__label-arrow:before {color: black;}#sk-container-id-5 div.sk-toggleable__content {max-height: 0;max-width: 0;overflow: hidden;text-align: left;background-color: #f0f8ff;}#sk-container-id-5 div.sk-toggleable__content pre {margin: 0.2em;color: black;border-radius: 0.25em;background-color: #f0f8ff;}#sk-container-id-5 input.sk-toggleable__control:checked~div.sk-toggleable__content {max-height: 200px;max-width: 100%;overflow: auto;}#sk-container-id-5 input.sk-toggleable__control:checked~label.sk-toggleable__label-arrow:before {content: \"▾\";}#sk-container-id-5 div.sk-estimator input.sk-toggleable__control:checked~label.sk-toggleable__label {background-color: #d4ebff;}#sk-container-id-5 div.sk-label input.sk-toggleable__control:checked~label.sk-toggleable__label {background-color: #d4ebff;}#sk-container-id-5 input.sk-hidden--visually {border: 0;clip: rect(1px 1px 1px 1px);clip: rect(1px, 1px, 1px, 1px);height: 1px;margin: -1px;overflow: hidden;padding: 0;position: absolute;width: 1px;}#sk-container-id-5 div.sk-estimator {font-family: monospace;background-color: #f0f8ff;border: 1px dotted black;border-radius: 0.25em;box-sizing: border-box;margin-bottom: 0.5em;}#sk-container-id-5 div.sk-estimator:hover {background-color: #d4ebff;}#sk-container-id-5 div.sk-parallel-item::after {content: \"\";width: 100%;border-bottom: 1px solid gray;flex-grow: 1;}#sk-container-id-5 div.sk-label:hover label.sk-toggleable__label {background-color: #d4ebff;}#sk-container-id-5 div.sk-serial::before {content: \"\";position: absolute;border-left: 1px solid gray;box-sizing: border-box;top: 0;bottom: 0;left: 50%;z-index: 0;}#sk-container-id-5 div.sk-serial {display: flex;flex-direction: column;align-items: center;background-color: white;padding-right: 0.2em;padding-left: 0.2em;position: relative;}#sk-container-id-5 div.sk-item {position: relative;z-index: 1;}#sk-container-id-5 div.sk-parallel {display: flex;align-items: stretch;justify-content: center;background-color: white;position: relative;}#sk-container-id-5 div.sk-item::before, #sk-container-id-5 div.sk-parallel-item::before {content: \"\";position: absolute;border-left: 1px solid gray;box-sizing: border-box;top: 0;bottom: 0;left: 50%;z-index: -1;}#sk-container-id-5 div.sk-parallel-item {display: flex;flex-direction: column;z-index: 1;position: relative;background-color: white;}#sk-container-id-5 div.sk-parallel-item:first-child::after {align-self: flex-end;width: 50%;}#sk-container-id-5 div.sk-parallel-item:last-child::after {align-self: flex-start;width: 50%;}#sk-container-id-5 div.sk-parallel-item:only-child::after {width: 0;}#sk-container-id-5 div.sk-dashed-wrapped {border: 1px dashed gray;margin: 0 0.4em 0.5em 0.4em;box-sizing: border-box;padding-bottom: 0.4em;background-color: white;}#sk-container-id-5 div.sk-label label {font-family: monospace;font-weight: bold;display: inline-block;line-height: 1.2em;}#sk-container-id-5 div.sk-label-container {text-align: center;}#sk-container-id-5 div.sk-container {/* jupyter's `normalize.less` sets `[hidden] { display: none; }` but bootstrap.min.css set `[hidden] { display: none !important; }` so we also need the `!important` here to be able to override the default hidden behavior on the sphinx rendered scikit-learn.org. See: https://github.com/scikit-learn/scikit-learn/issues/21755 */display: inline-block !important;position: relative;}#sk-container-id-5 div.sk-text-repr-fallback {display: none;}</style><div id=\"sk-container-id-5\" class=\"sk-top-container\"><div class=\"sk-text-repr-fallback\"><pre>DecisionTreeClassifier(random_state=40)</pre><b>In a Jupyter environment, please rerun this cell to show the HTML representation or trust the notebook. <br />On GitHub, the HTML representation is unable to render, please try loading this page with nbviewer.org.</b></div><div class=\"sk-container\" hidden><div class=\"sk-item\"><div class=\"sk-estimator sk-toggleable\"><input class=\"sk-toggleable__control sk-hidden--visually\" id=\"sk-estimator-id-5\" type=\"checkbox\" checked><label for=\"sk-estimator-id-5\" class=\"sk-toggleable__label sk-toggleable__label-arrow\">DecisionTreeClassifier</label><div class=\"sk-toggleable__content\"><pre>DecisionTreeClassifier(random_state=40)</pre></div></div></div></div></div>"
      ],
      "text/plain": [
       "DecisionTreeClassifier(random_state=40)"
      ]
     },
     "execution_count": 47,
     "metadata": {},
     "output_type": "execute_result"
    }
   ],
   "source": [
    "#fit the model on the training data\n",
    "DTC.fit(X_train2, y_train2)"
   ]
  },
  {
   "cell_type": "code",
   "execution_count": 48,
   "id": "4ddc2bf6",
   "metadata": {},
   "outputs": [],
   "source": [
    "#make predictions on the test set\n",
    "y_pred_DTC = DTC.predict(X_test2)"
   ]
  },
  {
   "cell_type": "code",
   "execution_count": 49,
   "id": "d3962521",
   "metadata": {},
   "outputs": [
    {
     "name": "stdout",
     "output_type": "stream",
     "text": [
      "Accuracy: 0.64\n"
     ]
    }
   ],
   "source": [
    "#Since classes are approximately balanced, will evaluate based on accuracy and misclassification rate\n",
    "# Evaluate the model\n",
    "accuracy = accuracy_score(y_test2, y_pred_DTC)\n",
    "print(f'Accuracy: {accuracy:.2f}')\n",
    "#Accuracy = 0.64, Misclassification rate = 1 - 0.64 = 0.36. Model is better than coin flip."
   ]
  },
  {
   "cell_type": "code",
   "execution_count": 50,
   "id": "e3c82293",
   "metadata": {},
   "outputs": [],
   "source": [
    "#create a Decision Tree Classifier with different parameters\n",
    "DTC2 = DecisionTreeClassifier(criterion= 'entropy', splitter = 'random', random_state=40)"
   ]
  },
  {
   "cell_type": "code",
   "execution_count": 51,
   "id": "bd622011",
   "metadata": {},
   "outputs": [
    {
     "data": {
      "text/html": [
       "<style>#sk-container-id-6 {color: black;}#sk-container-id-6 pre{padding: 0;}#sk-container-id-6 div.sk-toggleable {background-color: white;}#sk-container-id-6 label.sk-toggleable__label {cursor: pointer;display: block;width: 100%;margin-bottom: 0;padding: 0.3em;box-sizing: border-box;text-align: center;}#sk-container-id-6 label.sk-toggleable__label-arrow:before {content: \"▸\";float: left;margin-right: 0.25em;color: #696969;}#sk-container-id-6 label.sk-toggleable__label-arrow:hover:before {color: black;}#sk-container-id-6 div.sk-estimator:hover label.sk-toggleable__label-arrow:before {color: black;}#sk-container-id-6 div.sk-toggleable__content {max-height: 0;max-width: 0;overflow: hidden;text-align: left;background-color: #f0f8ff;}#sk-container-id-6 div.sk-toggleable__content pre {margin: 0.2em;color: black;border-radius: 0.25em;background-color: #f0f8ff;}#sk-container-id-6 input.sk-toggleable__control:checked~div.sk-toggleable__content {max-height: 200px;max-width: 100%;overflow: auto;}#sk-container-id-6 input.sk-toggleable__control:checked~label.sk-toggleable__label-arrow:before {content: \"▾\";}#sk-container-id-6 div.sk-estimator input.sk-toggleable__control:checked~label.sk-toggleable__label {background-color: #d4ebff;}#sk-container-id-6 div.sk-label input.sk-toggleable__control:checked~label.sk-toggleable__label {background-color: #d4ebff;}#sk-container-id-6 input.sk-hidden--visually {border: 0;clip: rect(1px 1px 1px 1px);clip: rect(1px, 1px, 1px, 1px);height: 1px;margin: -1px;overflow: hidden;padding: 0;position: absolute;width: 1px;}#sk-container-id-6 div.sk-estimator {font-family: monospace;background-color: #f0f8ff;border: 1px dotted black;border-radius: 0.25em;box-sizing: border-box;margin-bottom: 0.5em;}#sk-container-id-6 div.sk-estimator:hover {background-color: #d4ebff;}#sk-container-id-6 div.sk-parallel-item::after {content: \"\";width: 100%;border-bottom: 1px solid gray;flex-grow: 1;}#sk-container-id-6 div.sk-label:hover label.sk-toggleable__label {background-color: #d4ebff;}#sk-container-id-6 div.sk-serial::before {content: \"\";position: absolute;border-left: 1px solid gray;box-sizing: border-box;top: 0;bottom: 0;left: 50%;z-index: 0;}#sk-container-id-6 div.sk-serial {display: flex;flex-direction: column;align-items: center;background-color: white;padding-right: 0.2em;padding-left: 0.2em;position: relative;}#sk-container-id-6 div.sk-item {position: relative;z-index: 1;}#sk-container-id-6 div.sk-parallel {display: flex;align-items: stretch;justify-content: center;background-color: white;position: relative;}#sk-container-id-6 div.sk-item::before, #sk-container-id-6 div.sk-parallel-item::before {content: \"\";position: absolute;border-left: 1px solid gray;box-sizing: border-box;top: 0;bottom: 0;left: 50%;z-index: -1;}#sk-container-id-6 div.sk-parallel-item {display: flex;flex-direction: column;z-index: 1;position: relative;background-color: white;}#sk-container-id-6 div.sk-parallel-item:first-child::after {align-self: flex-end;width: 50%;}#sk-container-id-6 div.sk-parallel-item:last-child::after {align-self: flex-start;width: 50%;}#sk-container-id-6 div.sk-parallel-item:only-child::after {width: 0;}#sk-container-id-6 div.sk-dashed-wrapped {border: 1px dashed gray;margin: 0 0.4em 0.5em 0.4em;box-sizing: border-box;padding-bottom: 0.4em;background-color: white;}#sk-container-id-6 div.sk-label label {font-family: monospace;font-weight: bold;display: inline-block;line-height: 1.2em;}#sk-container-id-6 div.sk-label-container {text-align: center;}#sk-container-id-6 div.sk-container {/* jupyter's `normalize.less` sets `[hidden] { display: none; }` but bootstrap.min.css set `[hidden] { display: none !important; }` so we also need the `!important` here to be able to override the default hidden behavior on the sphinx rendered scikit-learn.org. See: https://github.com/scikit-learn/scikit-learn/issues/21755 */display: inline-block !important;position: relative;}#sk-container-id-6 div.sk-text-repr-fallback {display: none;}</style><div id=\"sk-container-id-6\" class=\"sk-top-container\"><div class=\"sk-text-repr-fallback\"><pre>DecisionTreeClassifier(criterion=&#x27;entropy&#x27;, random_state=40, splitter=&#x27;random&#x27;)</pre><b>In a Jupyter environment, please rerun this cell to show the HTML representation or trust the notebook. <br />On GitHub, the HTML representation is unable to render, please try loading this page with nbviewer.org.</b></div><div class=\"sk-container\" hidden><div class=\"sk-item\"><div class=\"sk-estimator sk-toggleable\"><input class=\"sk-toggleable__control sk-hidden--visually\" id=\"sk-estimator-id-6\" type=\"checkbox\" checked><label for=\"sk-estimator-id-6\" class=\"sk-toggleable__label sk-toggleable__label-arrow\">DecisionTreeClassifier</label><div class=\"sk-toggleable__content\"><pre>DecisionTreeClassifier(criterion=&#x27;entropy&#x27;, random_state=40, splitter=&#x27;random&#x27;)</pre></div></div></div></div></div>"
      ],
      "text/plain": [
       "DecisionTreeClassifier(criterion='entropy', random_state=40, splitter='random')"
      ]
     },
     "execution_count": 51,
     "metadata": {},
     "output_type": "execute_result"
    }
   ],
   "source": [
    "#fit the model on the training data\n",
    "DTC2.fit(X_train2, y_train2)"
   ]
  },
  {
   "cell_type": "code",
   "execution_count": 52,
   "id": "dc479d90",
   "metadata": {},
   "outputs": [],
   "source": [
    "#make predictions on the test set\n",
    "y_pred_DTC2 = DTC2.predict(X_test2)"
   ]
  },
  {
   "cell_type": "code",
   "execution_count": 53,
   "id": "23699b4f",
   "metadata": {},
   "outputs": [
    {
     "name": "stdout",
     "output_type": "stream",
     "text": [
      "Accuracy: 0.62\n"
     ]
    }
   ],
   "source": [
    "#Since classes are approximately balanced, will evaluate based on accuracy and misclassification rate\n",
    "# Evaluate the model\n",
    "accuracy2 = accuracy_score(y_test2, y_pred_DTC2)\n",
    "print(f'Accuracy: {accuracy2:.2f}')\n",
    "#Accuracy = 0.62, Misclassification rate = 1 - 0.62 = 0.38. Model is better than coin flip, but worse than first DTC."
   ]
  },
  {
   "cell_type": "code",
   "execution_count": 54,
   "id": "477eddc1",
   "metadata": {},
   "outputs": [],
   "source": [
    "#I prefer the first tree, with default parameters because it was 2% more accurate and had a 2% lower misclassification rate."
   ]
  },
  {
   "cell_type": "code",
   "execution_count": 55,
   "id": "e25f55dd",
   "metadata": {},
   "outputs": [
    {
     "data": {
      "image/png": "[encoded data removed]",
      "text/plain": [
       "<Figure size 1200x800 with 1 Axes>"
      ]
     },
     "metadata": {},
     "output_type": "display_data"
    }
   ],
   "source": [
    "#Display the first tree\n",
    "plt.figure(figsize=(12, 8))\n",
    "plot_tree(DTC, filled=True, feature_names=df2_X.columns, class_names=[str(i) for i in DTC.classes_], rounded=True)\n",
    "plt.show()"
   ]
  },
  {
   "cell_type": "code",
   "execution_count": 56,
   "id": "d7b234fa",
   "metadata": {},
   "outputs": [
    {
     "name": "stdout",
     "output_type": "stream",
     "text": [
      "|--- GP <= 59.50\n",
      "|   |--- OREB <= 0.85\n",
      "|   |   |--- AST <= 3.90\n",
      "|   |   |   |--- DREB <= 0.95\n",
      "|   |   |   |   |--- 3P Made <= 0.05\n",
      "|   |   |   |   |   |--- FG% <= 49.65\n",
      "|   |   |   |   |   |   |--- 3PA <= 0.05\n",
      "|   |   |   |   |   |   |   |--- FTA <= 0.65\n",
      "|   |   |   |   |   |   |   |   |--- class: 0.0\n",
      "|   |   |   |   |   |   |   |--- FTA >  0.65\n",
      "|   |   |   |   |   |   |   |   |--- FTM <= 0.55\n",
      "|   |   |   |   |   |   |   |   |   |--- class: 1.0\n",
      "|   |   |   |   |   |   |   |   |--- FTM >  0.55\n",
      "|   |   |   |   |   |   |   |   |   |--- TOV <= 0.85\n",
      "|   |   |   |   |   |   |   |   |   |   |--- TOV <= 0.35\n",
      "|   |   |   |   |   |   |   |   |   |   |   |--- class: 1.0\n",
      "|   |   |   |   |   |   |   |   |   |   |--- TOV >  0.35\n",
      "|   |   |   |   |   |   |   |   |   |   |   |--- class: 0.0\n",
      "|   |   |   |   |   |   |   |   |   |--- TOV >  0.85\n",
      "|   |   |   |   |   |   |   |   |   |   |--- class: 1.0\n",
      "|   |   |   |   |   |   |--- 3PA >  0.05\n",
      "|   |   |   |   |   |   |   |--- GP <= 26.50\n",
      "|   |   |   |   |   |   |   |   |--- class: 0.0\n",
      "|   |   |   |   |   |   |   |--- GP >  26.50\n",
      "|   |   |   |   |   |   |   |   |--- TOV <= 1.15\n",
      "|   |   |   |   |   |   |   |   |   |--- STL <= 0.75\n",
      "|   |   |   |   |   |   |   |   |   |   |--- OREB <= 0.15\n",
      "|   |   |   |   |   |   |   |   |   |   |   |--- class: 0.0\n",
      "|   |   |   |   |   |   |   |   |   |   |--- OREB >  0.15\n",
      "|   |   |   |   |   |   |   |   |   |   |   |--- truncated branch of depth 5\n",
      "|   |   |   |   |   |   |   |   |   |--- STL >  0.75\n",
      "|   |   |   |   |   |   |   |   |   |   |--- class: 0.0\n",
      "|   |   |   |   |   |   |   |   |--- TOV >  1.15\n",
      "|   |   |   |   |   |   |   |   |   |--- class: 0.0\n",
      "|   |   |   |   |   |--- FG% >  49.65\n",
      "|   |   |   |   |   |   |--- TOV <= 0.40\n",
      "|   |   |   |   |   |   |   |--- class: 1.0\n",
      "|   |   |   |   |   |   |--- TOV >  0.40\n",
      "|   |   |   |   |   |   |   |--- class: 0.0\n",
      "|   |   |   |   |--- 3P Made >  0.05\n",
      "|   |   |   |   |   |--- PTS <= 4.85\n",
      "|   |   |   |   |   |   |--- FT% <= 97.05\n",
      "|   |   |   |   |   |   |   |--- FGA <= 1.35\n",
      "|   |   |   |   |   |   |   |   |--- class: 1.0\n",
      "|   |   |   |   |   |   |   |--- FGA >  1.35\n",
      "|   |   |   |   |   |   |   |   |--- 3P% <= 44.70\n",
      "|   |   |   |   |   |   |   |   |   |--- TOV <= 0.75\n",
      "|   |   |   |   |   |   |   |   |   |   |--- AST <= 1.05\n",
      "|   |   |   |   |   |   |   |   |   |   |   |--- truncated branch of depth 4\n",
      "|   |   |   |   |   |   |   |   |   |   |--- AST >  1.05\n",
      "|   |   |   |   |   |   |   |   |   |   |   |--- truncated branch of depth 5\n",
      "|   |   |   |   |   |   |   |   |   |--- TOV >  0.75\n",
      "|   |   |   |   |   |   |   |   |   |   |--- FT% <= 75.20\n",
      "|   |   |   |   |   |   |   |   |   |   |   |--- truncated branch of depth 5\n",
      "|   |   |   |   |   |   |   |   |   |   |--- FT% >  75.20\n",
      "|   |   |   |   |   |   |   |   |   |   |   |--- truncated branch of depth 2\n",
      "|   |   |   |   |   |   |   |   |--- 3P% >  44.70\n",
      "|   |   |   |   |   |   |   |   |   |--- class: 1.0\n",
      "|   |   |   |   |   |   |--- FT% >  97.05\n",
      "|   |   |   |   |   |   |   |--- class: 1.0\n",
      "|   |   |   |   |   |--- PTS >  4.85\n",
      "|   |   |   |   |   |   |--- FG% <= 44.55\n",
      "|   |   |   |   |   |   |   |--- class: 1.0\n",
      "|   |   |   |   |   |   |--- FG% >  44.55\n",
      "|   |   |   |   |   |   |   |--- PTS <= 5.55\n",
      "|   |   |   |   |   |   |   |   |--- class: 1.0\n",
      "|   |   |   |   |   |   |   |--- PTS >  5.55\n",
      "|   |   |   |   |   |   |   |   |--- class: 0.0\n",
      "|   |   |   |--- DREB >  0.95\n",
      "|   |   |   |   |--- FG% <= 46.45\n",
      "|   |   |   |   |   |--- GP <= 55.50\n",
      "|   |   |   |   |   |   |--- FT% <= 41.75\n",
      "|   |   |   |   |   |   |   |--- class: 1.0\n",
      "|   |   |   |   |   |   |--- FT% >  41.75\n",
      "|   |   |   |   |   |   |   |--- 3P% <= 48.05\n",
      "|   |   |   |   |   |   |   |   |--- 3P% <= 30.75\n",
      "|   |   |   |   |   |   |   |   |   |--- MIN <= 7.05\n",
      "|   |   |   |   |   |   |   |   |   |   |--- OREB <= 0.70\n",
      "|   |   |   |   |   |   |   |   |   |   |   |--- class: 0.0\n",
      "|   |   |   |   |   |   |   |   |   |   |--- OREB >  0.70\n",
      "|   |   |   |   |   |   |   |   |   |   |   |--- class: 1.0\n",
      "|   |   |   |   |   |   |   |   |   |--- MIN >  7.05\n",
      "|   |   |   |   |   |   |   |   |   |   |--- AST <= 3.10\n",
      "|   |   |   |   |   |   |   |   |   |   |   |--- truncated branch of depth 3\n",
      "|   |   |   |   |   |   |   |   |   |   |--- AST >  3.10\n",
      "|   |   |   |   |   |   |   |   |   |   |   |--- truncated branch of depth 2\n",
      "|   |   |   |   |   |   |   |   |--- 3P% >  30.75\n",
      "|   |   |   |   |   |   |   |   |   |--- FT% <= 72.35\n",
      "|   |   |   |   |   |   |   |   |   |   |--- 3PA <= 1.75\n",
      "|   |   |   |   |   |   |   |   |   |   |   |--- truncated branch of depth 3\n",
      "|   |   |   |   |   |   |   |   |   |   |--- 3PA >  1.75\n",
      "|   |   |   |   |   |   |   |   |   |   |   |--- truncated branch of depth 2\n",
      "|   |   |   |   |   |   |   |   |   |--- FT% >  72.35\n",
      "|   |   |   |   |   |   |   |   |   |   |--- FT% <= 87.85\n",
      "|   |   |   |   |   |   |   |   |   |   |   |--- class: 0.0\n",
      "|   |   |   |   |   |   |   |   |   |   |--- FT% >  87.85\n",
      "|   |   |   |   |   |   |   |   |   |   |   |--- truncated branch of depth 2\n",
      "|   |   |   |   |   |   |   |--- 3P% >  48.05\n",
      "|   |   |   |   |   |   |   |   |--- class: 1.0\n",
      "|   |   |   |   |   |--- GP >  55.50\n",
      "|   |   |   |   |   |   |--- 3P Made <= 0.95\n",
      "|   |   |   |   |   |   |   |--- AST <= 0.75\n",
      "|   |   |   |   |   |   |   |   |--- class: 1.0\n",
      "|   |   |   |   |   |   |   |--- AST >  0.75\n",
      "|   |   |   |   |   |   |   |   |--- FTM <= 2.05\n",
      "|   |   |   |   |   |   |   |   |   |--- class: 0.0\n",
      "|   |   |   |   |   |   |   |   |--- FTM >  2.05\n",
      "|   |   |   |   |   |   |   |   |   |--- class: 1.0\n",
      "|   |   |   |   |   |   |--- 3P Made >  0.95\n",
      "|   |   |   |   |   |   |   |--- class: 1.0\n",
      "|   |   |   |   |--- FG% >  46.45\n",
      "|   |   |   |   |   |--- TOV <= 0.75\n",
      "|   |   |   |   |   |   |--- GP <= 56.50\n",
      "|   |   |   |   |   |   |   |--- FTA <= 1.70\n",
      "|   |   |   |   |   |   |   |   |--- FGM <= 1.95\n",
      "|   |   |   |   |   |   |   |   |   |--- GP <= 52.00\n",
      "|   |   |   |   |   |   |   |   |   |   |--- class: 1.0\n",
      "|   |   |   |   |   |   |   |   |   |--- GP >  52.00\n",
      "|   |   |   |   |   |   |   |   |   |   |--- FTM <= 0.65\n",
      "|   |   |   |   |   |   |   |   |   |   |   |--- class: 1.0\n",
      "|   |   |   |   |   |   |   |   |   |   |--- FTM >  0.65\n",
      "|   |   |   |   |   |   |   |   |   |   |   |--- class: 0.0\n",
      "|   |   |   |   |   |   |   |   |--- FGM >  1.95\n",
      "|   |   |   |   |   |   |   |   |   |--- GP <= 42.00\n",
      "|   |   |   |   |   |   |   |   |   |   |--- class: 1.0\n",
      "|   |   |   |   |   |   |   |   |   |--- GP >  42.00\n",
      "|   |   |   |   |   |   |   |   |   |   |--- class: 0.0\n",
      "|   |   |   |   |   |   |   |--- FTA >  1.70\n",
      "|   |   |   |   |   |   |   |   |--- class: 0.0\n",
      "|   |   |   |   |   |   |--- GP >  56.50\n",
      "|   |   |   |   |   |   |   |--- class: 0.0\n",
      "|   |   |   |   |   |--- TOV >  0.75\n",
      "|   |   |   |   |   |   |--- FGA <= 7.00\n",
      "|   |   |   |   |   |   |   |--- class: 0.0\n",
      "|   |   |   |   |   |   |--- FGA >  7.00\n",
      "|   |   |   |   |   |   |   |--- class: 1.0\n",
      "|   |   |--- AST >  3.90\n",
      "|   |   |   |--- class: 1.0\n",
      "|   |--- OREB >  0.85\n",
      "|   |   |--- FTM <= 0.65\n",
      "|   |   |   |--- AST <= 0.70\n",
      "|   |   |   |   |--- MIN <= 8.60\n",
      "|   |   |   |   |   |--- class: 1.0\n",
      "|   |   |   |   |--- MIN >  8.60\n",
      "|   |   |   |   |   |--- FT% <= 74.35\n",
      "|   |   |   |   |   |   |--- STL <= 0.15\n",
      "|   |   |   |   |   |   |   |--- class: 1.0\n",
      "|   |   |   |   |   |   |--- STL >  0.15\n",
      "|   |   |   |   |   |   |   |--- FTA <= 1.15\n",
      "|   |   |   |   |   |   |   |   |--- class: 0.0\n",
      "|   |   |   |   |   |   |   |--- FTA >  1.15\n",
      "|   |   |   |   |   |   |   |   |--- DREB <= 1.95\n",
      "|   |   |   |   |   |   |   |   |   |--- class: 0.0\n",
      "|   |   |   |   |   |   |   |   |--- DREB >  1.95\n",
      "|   |   |   |   |   |   |   |   |   |--- class: 1.0\n",
      "|   |   |   |   |   |--- FT% >  74.35\n",
      "|   |   |   |   |   |   |--- AST <= 0.55\n",
      "|   |   |   |   |   |   |   |--- class: 1.0\n",
      "|   |   |   |   |   |   |--- AST >  0.55\n",
      "|   |   |   |   |   |   |   |--- class: 0.0\n",
      "|   |   |   |--- AST >  0.70\n",
      "|   |   |   |   |--- class: 1.0\n",
      "|   |   |--- FTM >  0.65\n",
      "|   |   |   |--- 3P% <= 31.65\n",
      "|   |   |   |   |--- STL <= 1.15\n",
      "|   |   |   |   |   |--- 3P% <= 30.70\n",
      "|   |   |   |   |   |   |--- MIN <= 8.40\n",
      "|   |   |   |   |   |   |   |--- class: 0.0\n",
      "|   |   |   |   |   |   |--- MIN >  8.40\n",
      "|   |   |   |   |   |   |   |--- BLK <= 0.15\n",
      "|   |   |   |   |   |   |   |   |--- class: 1.0\n",
      "|   |   |   |   |   |   |   |--- BLK >  0.15\n",
      "|   |   |   |   |   |   |   |   |--- FTM <= 1.05\n",
      "|   |   |   |   |   |   |   |   |   |--- FGA <= 3.00\n",
      "|   |   |   |   |   |   |   |   |   |   |--- FG% <= 39.05\n",
      "|   |   |   |   |   |   |   |   |   |   |   |--- class: 0.0\n",
      "|   |   |   |   |   |   |   |   |   |   |--- FG% >  39.05\n",
      "|   |   |   |   |   |   |   |   |   |   |   |--- class: 1.0\n",
      "|   |   |   |   |   |   |   |   |   |--- FGA >  3.00\n",
      "|   |   |   |   |   |   |   |   |   |   |--- FT% <= 61.40\n",
      "|   |   |   |   |   |   |   |   |   |   |   |--- truncated branch of depth 2\n",
      "|   |   |   |   |   |   |   |   |   |   |--- FT% >  61.40\n",
      "|   |   |   |   |   |   |   |   |   |   |   |--- truncated branch of depth 4\n",
      "|   |   |   |   |   |   |   |   |--- FTM >  1.05\n",
      "|   |   |   |   |   |   |   |   |   |--- 3PA <= 0.15\n",
      "|   |   |   |   |   |   |   |   |   |   |--- FG% <= 48.50\n",
      "|   |   |   |   |   |   |   |   |   |   |   |--- truncated branch of depth 3\n",
      "|   |   |   |   |   |   |   |   |   |   |--- FG% >  48.50\n",
      "|   |   |   |   |   |   |   |   |   |   |   |--- class: 1.0\n",
      "|   |   |   |   |   |   |   |   |   |--- 3PA >  0.15\n",
      "|   |   |   |   |   |   |   |   |   |   |--- class: 1.0\n",
      "|   |   |   |   |   |--- 3P% >  30.70\n",
      "|   |   |   |   |   |   |--- class: 0.0\n",
      "|   |   |   |   |--- STL >  1.15\n",
      "|   |   |   |   |   |--- class: 0.0\n",
      "|   |   |   |--- 3P% >  31.65\n",
      "|   |   |   |   |--- FG% <= 51.15\n",
      "|   |   |   |   |   |--- class: 1.0\n",
      "|   |   |   |   |--- FG% >  51.15\n",
      "|   |   |   |   |   |--- GP <= 51.00\n",
      "|   |   |   |   |   |   |--- class: 1.0\n",
      "|   |   |   |   |   |--- GP >  51.00\n",
      "|   |   |   |   |   |   |--- class: 0.0\n",
      "|--- GP >  59.50\n",
      "|   |--- DREB <= 1.25\n",
      "|   |   |--- FG% <= 39.25\n",
      "|   |   |   |--- AST <= 1.75\n",
      "|   |   |   |   |--- 3P% <= 37.85\n",
      "|   |   |   |   |   |--- class: 0.0\n",
      "|   |   |   |   |--- 3P% >  37.85\n",
      "|   |   |   |   |   |--- class: 1.0\n",
      "|   |   |   |--- AST >  1.75\n",
      "|   |   |   |   |--- PTS <= 2.95\n",
      "|   |   |   |   |   |--- FGA <= 2.00\n",
      "|   |   |   |   |   |   |--- class: 1.0\n",
      "|   |   |   |   |   |--- FGA >  2.00\n",
      "|   |   |   |   |   |   |--- class: 0.0\n",
      "|   |   |   |   |--- PTS >  2.95\n",
      "|   |   |   |   |   |--- class: 1.0\n",
      "|   |   |--- FG% >  39.25\n",
      "|   |   |   |--- 3P Made <= 0.15\n",
      "|   |   |   |   |--- OREB <= 0.35\n",
      "|   |   |   |   |   |--- DREB <= 0.85\n",
      "|   |   |   |   |   |   |--- FTA <= 0.80\n",
      "|   |   |   |   |   |   |   |--- class: 1.0\n",
      "|   |   |   |   |   |   |--- FTA >  0.80\n",
      "|   |   |   |   |   |   |   |--- class: 0.0\n",
      "|   |   |   |   |   |--- DREB >  0.85\n",
      "|   |   |   |   |   |   |--- class: 1.0\n",
      "|   |   |   |   |--- OREB >  0.35\n",
      "|   |   |   |   |   |--- FG% <= 45.60\n",
      "|   |   |   |   |   |   |--- GP <= 73.00\n",
      "|   |   |   |   |   |   |   |--- class: 0.0\n",
      "|   |   |   |   |   |   |--- GP >  73.00\n",
      "|   |   |   |   |   |   |   |--- 3P% <= 15.95\n",
      "|   |   |   |   |   |   |   |   |--- class: 0.0\n",
      "|   |   |   |   |   |   |   |--- 3P% >  15.95\n",
      "|   |   |   |   |   |   |   |   |--- class: 1.0\n",
      "|   |   |   |   |   |--- FG% >  45.60\n",
      "|   |   |   |   |   |   |--- OREB <= 0.65\n",
      "|   |   |   |   |   |   |   |--- BLK <= 0.05\n",
      "|   |   |   |   |   |   |   |   |--- class: 0.0\n",
      "|   |   |   |   |   |   |   |--- BLK >  0.05\n",
      "|   |   |   |   |   |   |   |   |--- FTA <= 0.90\n",
      "|   |   |   |   |   |   |   |   |   |--- class: 0.0\n",
      "|   |   |   |   |   |   |   |   |--- FTA >  0.90\n",
      "|   |   |   |   |   |   |   |   |   |--- class: 1.0\n",
      "|   |   |   |   |   |   |--- OREB >  0.65\n",
      "|   |   |   |   |   |   |   |--- PTS <= 9.85\n",
      "|   |   |   |   |   |   |   |   |--- class: 1.0\n",
      "|   |   |   |   |   |   |   |--- PTS >  9.85\n",
      "|   |   |   |   |   |   |   |   |--- class: 0.0\n",
      "|   |   |   |--- 3P Made >  0.15\n",
      "|   |   |   |   |--- FT% <= 67.80\n",
      "|   |   |   |   |   |--- FTA <= 0.55\n",
      "|   |   |   |   |   |   |--- class: 1.0\n",
      "|   |   |   |   |   |--- FTA >  0.55\n",
      "|   |   |   |   |   |   |--- class: 0.0\n",
      "|   |   |   |   |--- FT% >  67.80\n",
      "|   |   |   |   |   |--- class: 1.0\n",
      "|   |--- DREB >  1.25\n",
      "|   |   |--- FGM <= 4.95\n",
      "|   |   |   |--- FG% <= 56.05\n",
      "|   |   |   |   |--- OREB <= 1.55\n",
      "|   |   |   |   |   |--- MIN <= 13.55\n",
      "|   |   |   |   |   |   |--- GP <= 60.50\n",
      "|   |   |   |   |   |   |   |--- DREB <= 1.80\n",
      "|   |   |   |   |   |   |   |   |--- class: 1.0\n",
      "|   |   |   |   |   |   |   |--- DREB >  1.80\n",
      "|   |   |   |   |   |   |   |   |--- class: 0.0\n",
      "|   |   |   |   |   |   |--- GP >  60.50\n",
      "|   |   |   |   |   |   |   |--- class: 1.0\n",
      "|   |   |   |   |   |--- MIN >  13.55\n",
      "|   |   |   |   |   |   |--- 3P% <= 37.25\n",
      "|   |   |   |   |   |   |   |--- FG% <= 51.15\n",
      "|   |   |   |   |   |   |   |   |--- MIN <= 16.65\n",
      "|   |   |   |   |   |   |   |   |   |--- PTS <= 6.15\n",
      "|   |   |   |   |   |   |   |   |   |   |--- FG% <= 39.75\n",
      "|   |   |   |   |   |   |   |   |   |   |   |--- class: 0.0\n",
      "|   |   |   |   |   |   |   |   |   |   |--- FG% >  39.75\n",
      "|   |   |   |   |   |   |   |   |   |   |   |--- truncated branch of depth 4\n",
      "|   |   |   |   |   |   |   |   |   |--- PTS >  6.15\n",
      "|   |   |   |   |   |   |   |   |   |   |--- class: 0.0\n",
      "|   |   |   |   |   |   |   |   |--- MIN >  16.65\n",
      "|   |   |   |   |   |   |   |   |   |--- 3P% <= 30.60\n",
      "|   |   |   |   |   |   |   |   |   |   |--- GP <= 63.00\n",
      "|   |   |   |   |   |   |   |   |   |   |   |--- truncated branch of depth 2\n",
      "|   |   |   |   |   |   |   |   |   |   |--- GP >  63.00\n",
      "|   |   |   |   |   |   |   |   |   |   |   |--- truncated branch of depth 7\n",
      "|   |   |   |   |   |   |   |   |   |--- 3P% >  30.60\n",
      "|   |   |   |   |   |   |   |   |   |   |--- FGM <= 4.55\n",
      "|   |   |   |   |   |   |   |   |   |   |   |--- truncated branch of depth 8\n",
      "|   |   |   |   |   |   |   |   |   |   |--- FGM >  4.55\n",
      "|   |   |   |   |   |   |   |   |   |   |   |--- class: 0.0\n",
      "|   |   |   |   |   |   |   |--- FG% >  51.15\n",
      "|   |   |   |   |   |   |   |   |--- class: 1.0\n",
      "|   |   |   |   |   |   |--- 3P% >  37.25\n",
      "|   |   |   |   |   |   |   |--- FGA <= 8.65\n",
      "|   |   |   |   |   |   |   |   |--- class: 1.0\n",
      "|   |   |   |   |   |   |   |--- FGA >  8.65\n",
      "|   |   |   |   |   |   |   |   |--- MIN <= 23.20\n",
      "|   |   |   |   |   |   |   |   |   |--- class: 0.0\n",
      "|   |   |   |   |   |   |   |   |--- MIN >  23.20\n",
      "|   |   |   |   |   |   |   |   |   |--- class: 1.0\n",
      "|   |   |   |   |--- OREB >  1.55\n",
      "|   |   |   |   |   |--- FT% <= 49.45\n",
      "|   |   |   |   |   |   |--- OREB <= 2.55\n",
      "|   |   |   |   |   |   |   |--- class: 0.0\n",
      "|   |   |   |   |   |   |--- OREB >  2.55\n",
      "|   |   |   |   |   |   |   |--- class: 0.0\n",
      "|   |   |   |   |   |--- FT% >  49.45\n",
      "|   |   |   |   |   |   |--- FGA <= 4.65\n",
      "|   |   |   |   |   |   |   |--- REB <= 4.45\n",
      "|   |   |   |   |   |   |   |   |--- class: 0.0\n",
      "|   |   |   |   |   |   |   |--- REB >  4.45\n",
      "|   |   |   |   |   |   |   |   |--- PTS <= 6.25\n",
      "|   |   |   |   |   |   |   |   |   |--- class: 1.0\n",
      "|   |   |   |   |   |   |   |   |--- PTS >  6.25\n",
      "|   |   |   |   |   |   |   |   |   |--- class: 0.0\n",
      "|   |   |   |   |   |   |--- FGA >  4.65\n",
      "|   |   |   |   |   |   |   |--- FT% <= 64.95\n",
      "|   |   |   |   |   |   |   |   |--- TOV <= 1.75\n",
      "|   |   |   |   |   |   |   |   |   |--- GP <= 68.00\n",
      "|   |   |   |   |   |   |   |   |   |   |--- GP <= 64.50\n",
      "|   |   |   |   |   |   |   |   |   |   |   |--- class: 1.0\n",
      "|   |   |   |   |   |   |   |   |   |   |--- GP >  64.50\n",
      "|   |   |   |   |   |   |   |   |   |   |   |--- class: 0.0\n",
      "|   |   |   |   |   |   |   |   |   |--- GP >  68.00\n",
      "|   |   |   |   |   |   |   |   |   |   |--- class: 1.0\n",
      "|   |   |   |   |   |   |   |   |--- TOV >  1.75\n",
      "|   |   |   |   |   |   |   |   |   |--- BLK <= 1.05\n",
      "|   |   |   |   |   |   |   |   |   |   |--- DREB <= 3.55\n",
      "|   |   |   |   |   |   |   |   |   |   |   |--- class: 0.0\n",
      "|   |   |   |   |   |   |   |   |   |   |--- DREB >  3.55\n",
      "|   |   |   |   |   |   |   |   |   |   |   |--- class: 1.0\n",
      "|   |   |   |   |   |   |   |   |   |--- BLK >  1.05\n",
      "|   |   |   |   |   |   |   |   |   |   |--- class: 0.0\n",
      "|   |   |   |   |   |   |   |--- FT% >  64.95\n",
      "|   |   |   |   |   |   |   |   |--- class: 1.0\n",
      "|   |   |   |--- FG% >  56.05\n",
      "|   |   |   |   |--- FGM <= 3.25\n",
      "|   |   |   |   |   |--- STL <= 0.75\n",
      "|   |   |   |   |   |   |--- FG% <= 59.40\n",
      "|   |   |   |   |   |   |   |--- class: 0.0\n",
      "|   |   |   |   |   |   |--- FG% >  59.40\n",
      "|   |   |   |   |   |   |   |--- FGM <= 2.40\n",
      "|   |   |   |   |   |   |   |   |--- class: 0.0\n",
      "|   |   |   |   |   |   |   |--- FGM >  2.40\n",
      "|   |   |   |   |   |   |   |   |--- class: 0.0\n",
      "|   |   |   |   |   |--- STL >  0.75\n",
      "|   |   |   |   |   |   |--- class: 1.0\n",
      "|   |   |   |   |--- FGM >  3.25\n",
      "|   |   |   |   |   |--- class: 1.0\n",
      "|   |   |--- FGM >  4.95\n",
      "|   |   |   |--- PTS <= 15.85\n",
      "|   |   |   |   |--- class: 1.0\n",
      "|   |   |   |--- PTS >  15.85\n",
      "|   |   |   |   |--- TOV <= 2.45\n",
      "|   |   |   |   |   |--- BLK <= 0.45\n",
      "|   |   |   |   |   |   |--- class: 1.0\n",
      "|   |   |   |   |   |--- BLK >  0.45\n",
      "|   |   |   |   |   |   |--- AST <= 1.60\n",
      "|   |   |   |   |   |   |   |--- class: 0.0\n",
      "|   |   |   |   |   |   |--- AST >  1.60\n",
      "|   |   |   |   |   |   |   |--- class: 0.0\n",
      "|   |   |   |   |--- TOV >  2.45\n",
      "|   |   |   |   |   |--- FG% <= 40.55\n",
      "|   |   |   |   |   |   |--- class: 0.0\n",
      "|   |   |   |   |   |--- FG% >  40.55\n",
      "|   |   |   |   |   |   |--- class: 1.0\n",
      "\n"
     ]
    }
   ],
   "source": [
    "text_representation = tree.export_text(DTC, feature_names = list(df2.loc[:,df2_X.columns]))\n",
    "print(text_representation)"
   ]
  },
  {
   "cell_type": "code",
   "execution_count": 57,
   "id": "d80e906d",
   "metadata": {},
   "outputs": [],
   "source": [
    "#The first decision rule states that if a player has GP (Games played) is less than or equal to 59.5, averaged 0.85 offensive rebounds or less, averaged 2.9 assists or less, averaged 0.95 defensive rebounds or less, averaged 0.05 3-pointers or less, had a field-goal % of 49.65% or less, averaged 0.05 3-pointers attempted or less, and averaged 0.65 free throws attempted or less, than the observation belongs to class 0.\n",
    "#That means the model predicts the player has had a career length of less than 5 years."
   ]
  },
  {
   "cell_type": "code",
   "execution_count": null,
   "id": "637640ca",
   "metadata": {},
   "outputs": [],
   "source": [
    "#### Good job Cole. This is very well done"
   ]
  }
 ],
 "metadata": {
  "kernelspec": {
   "display_name": "Python 3 (ipykernel)",
   "language": "python",
   "name": "python3"
  },
  "language_info": {
   "codemirror_mode": {
    "name": "ipython",
    "version": 3
   },
   "file_extension": ".py",
   "mimetype": "text/x-python",
   "name": "python",
   "nbconvert_exporter": "python",
   "pygments_lexer": "ipython3",
   "version": "3.9.12"
  }
 },
 "nbformat": 4,
 "nbformat_minor": 5
}
